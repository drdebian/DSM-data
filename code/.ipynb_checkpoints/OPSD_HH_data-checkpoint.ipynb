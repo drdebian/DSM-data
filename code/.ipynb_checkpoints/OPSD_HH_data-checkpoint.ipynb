{
 "cells": [
  {
   "cell_type": "markdown",
   "metadata": {},
   "source": [
    "<table style=\"width:100%; background-color: #EBF5FB\">\n",
    "  <tr>\n",
    "    <td style=\"border: 1px solid #CFCFCF\">\n",
    "      <b>Time series: Main Notebook</b>\n",
    "      <ul>\n",
    "        <li>Main Notebook</li>\n",
    "        <li><a href=\"processing.ipynb\">Processing Notebook</a></li>\n",
    "      </ul>\n",
    "      <br>This Notebook is part of the <a href=\"http://data.open-power-system-data.org/household_data\">Household Data Package</a> of <a href=\"http://open-power-system-data.org\">Open Power System Data</a>.\n",
    "    </td>\n",
    "  </tr>\n",
    "</table>"
   ]
  },
  {
   "cell_type": "markdown",
   "metadata": {},
   "source": [
    "# 1. About Open Power System Data"
   ]
  },
  {
   "cell_type": "markdown",
   "metadata": {},
   "source": [
    "This notebook is part of the project [Open Power System Data](http://open-power-system-data.org). Open Power System Data develops a platform for free and open data for electricity system modeling. We collect, check, process, document, and provide data that are publicly available but currently inconvenient to use. \n",
    "More info on Open Power System Data:\n",
    "- [Information on the project on our website](http://open-power-system-data.org)\n",
    "- [Data and metadata on our data platform](http://data.open-power-system-data.org)\n",
    "- [Data processing scripts on our GitHub page](https://github.com/Open-Power-System-Data)"
   ]
  },
  {
   "cell_type": "markdown",
   "metadata": {},
   "source": [
    "# 2. About Jupyter Notebooks and GitHub"
   ]
  },
  {
   "cell_type": "markdown",
   "metadata": {},
   "source": [
    "This file is a [Jupyter Notebook](http://jupyter.org/). A Jupyter Notebook is a file that combines executable programming code with visualizations and comments in markdown format, allowing for an intuitive documentation of the code. We use Jupyter Notebooks for combined coding and documentation. We use Python 3 as programming language. All Notebooks are stored on [GitHub](https://github.com/), a platform for software development, and are publicly available. More information on our IT-concept can be found [here](http://open-power-system-data.org/it). See also our [step-by-step manual](http://open-power-system-data.org/step-by-step) how to use the dataplatform."
   ]
  },
  {
   "cell_type": "markdown",
   "metadata": {},
   "source": [
    "# 3. About CoSSMic"
   ]
  },
  {
   "cell_type": "markdown",
   "metadata": {},
   "source": [
    "All time series were collected during the course of the European [CoSSMic](http://cossmic.eu/) project from October 2013 to December 2016.\n",
    "\n",
    "CoSSMic stands for **Co**llaborating **S**mart **S**olar-powered **Mic**rogrids. The consortium addressed the coupling of solar panels with smart energy sharing solutions and storage capabilities, while researching a decentralized, agent-based model approach, to optimize the potentials to exchange energy inside small communities. The complete [CoSSMic Mission Statement](http://cossmic.eu/mission-statement/) may provide further insight.\n",
    "\n",
    "To test these concepts and ideas, CoSSMic contacted local business owners, residents and administrators of public buildings in Konstanz (Germany) and Caserta (Italy), to deploy and iteratively improve developed open-source measuring and control systems and collect hands-on information about specific device and user consumption behaviours."
   ]
  },
  {
   "cell_type": "markdown",
   "metadata": {},
   "source": [
    "# 4. About this data package"
   ]
  },
  {
   "cell_type": "markdown",
   "metadata": {},
   "source": [
    "We provide data in different chunks, or [data-packages](http://frictionlessdata.io/data-packages/). The one you are looking at right now, [household_data](http://data.open-power-system-data.org/household_data/), contains scripts to create time series data of detailed household consumption and generation. It includes data of small businesses, as well as private households, in a resolution up to single device consumptions.\n",
    "\n",
    "All available data feeds consist of the actually transmitted energy value in kWh, already integrated in deployed MID-certified metering devices. The metering device keeps track of the cumulative power consumption/generation of the device. Hence, even though there are some data gaps due to communication outages, the overall energy consumption/generation is retained.\n",
    "\n",
    "Each household includes data about their grid import/export, with some having decentral energy generation through installed Photovoltaic (PV) systems. Though further pv generation, batteries, electric vehicles or other appliances are available only for certain households, the overall dataset contains load information according to the following naming conventions:\n",
    "\n",
    "- **grid_import**: Energy imported from the public grid\n",
    "- **grid_export**: Energy exported to the public grid\n",
    "- **consumption**: Total household energy consumption  \n",
    "*(Note: This is different from grid_import, if a Photovoltaic system with a single, bidirectional household meter is installed. For many households with feed-in tariffs, this additional feed is unnecessary, as all generated energy is exported into the grid, while all consumed energy is imported from the grid)*\n",
    "- **pv**: Total Photovoltaic energy generation\n",
    "- **ev**: Electric Vehicle charging energy\n",
    "- **storage_charge**: Battery charging energy\n",
    "- **storage_discharge**: Battery discharged energy\n",
    "- **heat_pump**: Heat pump energy consumption\n",
    "- **circulation_pump**: Circulation pump energy consumption, circulating the heated water of e.g. boilers\n",
    "- **air_conditioning**: Air conditioning energy consumption\n",
    "- **ventilation**: Ventilation energy consumption\n",
    "- **dishwasher**: Dishwasher energy consumption\n",
    "- **washing_machine**: Washing machine energy consumption\n",
    "- **refrigerator**: Refrigerator energy consumption\n",
    "- **freezer**: Freezer energy consumption\n",
    "- **cooling_aggregate**: Cooling aggregate energy consumption\n",
    "- **facility**: Energy consumption of an industrial- or research-facility\n",
    "- **area**: Energy consumption of an area, consisting of several smaller loads\n",
    "\n",
    "This data package contains the measurements of the **German trial site in Konstanz**, but packages from the italian site may follow in the future.\n",
    "The time series become available at different points in time and contain short outages depending on the sources. The most complete dataset is available from February 2016. The data has been downloaded from the households, resampled and merged in large CSV files in its initially conducted 3-minute intervals, as well as later on in 1-minute intervals. Additionally, data in 15 and 60-minute resolution is provided for compatibility with other time series data."
   ]
  },
  {
   "cell_type": "markdown",
   "metadata": {},
   "source": [
    "# 5. Data sources"
   ]
  },
  {
   "cell_type": "markdown",
   "metadata": {},
   "source": [
    "The data sources are backups from the trial site household systems of the CoSSMic project. With the decentralized approach of CoSSMic, each household stored their own data locally, by running an [emoncms](https://emoncms.org/) webserver on a [Raspberry Pi](https://www.raspberrypi.org/). Emoncms is a powerful open-source web-app for processing, logging and visualizing energy, temperature and other environmental data and was used as a mediator between all drivers and services. A complete list of data sources is provided on the [data package information website](http://data.open-power-system-data.org/household_data/). They are also contained in the JSON file that contains all metadata."
   ]
  },
  {
   "cell_type": "markdown",
   "metadata": {},
   "source": [
    "# 6. License"
   ]
  },
  {
   "cell_type": "markdown",
   "metadata": {},
   "source": [
    "This notebook as well as all other documents in this repository is published under the [MIT License](LICENSE)."
   ]
  }
 ],
 "metadata": {
  "anaconda-cloud": {},
  "kernelspec": {
   "display_name": "Python 3",
   "language": "python",
   "name": "python3"
  },
  "language_info": {
   "codemirror_mode": {
    "name": "ipython",
    "version": 3
   },
   "file_extension": ".py",
   "mimetype": "text/x-python",
   "name": "python",
   "nbconvert_exporter": "python",
   "pygments_lexer": "ipython3",
   "version": "3.8.6"
  }
 },
 "nbformat": 4,
 "nbformat_minor": 4
}
