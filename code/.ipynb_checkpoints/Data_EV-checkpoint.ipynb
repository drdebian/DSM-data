{
 "cells": [
  {
   "cell_type": "markdown",
   "metadata": {},
   "source": [
    "# Python Configuration"
   ]
  },
  {
   "cell_type": "code",
   "execution_count": 1,
   "metadata": {},
   "outputs": [
    {
     "name": "stdout",
     "output_type": "stream",
     "text": [
      "python version = 3.8.6\n"
     ]
    }
   ],
   "source": [
    "# python version:\n",
    "from platform import python_version\n",
    "print(f\"python version = {python_version()}\")\n",
    "\n",
    "# We used the following version:\n",
    "# python version = 3.8.6"
   ]
  },
  {
   "cell_type": "code",
   "execution_count": 2,
   "metadata": {},
   "outputs": [],
   "source": [
    "# python standard library packages:\n",
    "import datetime\n",
    "import importlib\n",
    "import pickle\n",
    "\n",
    "# import more packages:\n",
    "import numpy as np\n",
    "import pandas as pd\n",
    "import matplotlib\n",
    "import matplotlib.pyplot as plt\n",
    "\n",
    "# import own package:\n",
    "import functions as my\n",
    "\n",
    "# the following package is only needed to view data interactively,\n",
    "# otherwise you can comment the import out:\n",
    "import qgrid  # https://github.com/quantopian/qgrid"
   ]
  },
  {
   "cell_type": "code",
   "execution_count": 3,
   "metadata": {},
   "outputs": [
    {
     "name": "stdout",
     "output_type": "stream",
     "text": [
      "numpy      version = 1.19.2\n",
      "pandas     version = 1.1.3\n",
      "matplotlib version = 3.3.2\n",
      "qgrid      version = 1.3.1\n"
     ]
    }
   ],
   "source": [
    "# standard package versions:\n",
    "print(f\"numpy      version = {np.__version__}\")\n",
    "print(f\"pandas     version = {pd.__version__}\")\n",
    "print(f\"matplotlib version = {matplotlib.__version__}\")\n",
    "\n",
    "# the following package is only needed to view data interactively,\n",
    "# otherwise you can comment this out:\n",
    "print(f\"qgrid      version = {qgrid.__version__}\")\n",
    "\n",
    "# We used the following versions:\n",
    "# numpy      version = 1.19.2\n",
    "# pandas     version = 1.1.3\n",
    "# matplotlib version = 3.3.2\n",
    "# qgrid      version = 1.3.1"
   ]
  },
  {
   "cell_type": "markdown",
   "metadata": {},
   "source": [
    "# Raw Data Source"
   ]
  },
  {
   "cell_type": "markdown",
   "metadata": {},
   "source": [
    "- **Source:** [project homepage](http://myelectricavenue.info/). *My Electric Avenue monitored the usage of over 200 EVs.* cf. `My Electric Avenue Published Technical Data Overview.pdf` in the download.\n",
    "- **Download** `My Electric Avenue Technical Data.tar.xz` at [eatechnology.com](https://eatechnology.com/my-electric-avenue-download/), extract it.\n",
    "- time frame: Jan 2014 - Jun 2015\n",
    "- sampling interval: 1 second, event based\n",
    "- location: UK\n",
    "- **legal notice:** *This data was collected as part of a customer funded Low Carbon Networks Fund project. A condition of this funding is that collected data is released for further work by other parties.* cf. `My Electric Avenue Published Technical Data Overview.pdf`."
   ]
  },
  {
   "cell_type": "markdown",
   "metadata": {},
   "source": [
    "`My Electric Avenue Published Technical Data Overview.pdf` says: \"The social trial participants were spread across Britain and did not have their EV charging curtailed. [...] The first two letters of the participant ID identify their cluster, those participants prefixed by ST or SW were allocated to the social trial, other participants formed the technical trial.\""
   ]
  },
  {
   "cell_type": "markdown",
   "metadata": {},
   "source": [
    "# Loading Raw Data"
   ]
  },
  {
   "cell_type": "code",
   "execution_count": 4,
   "metadata": {},
   "outputs": [],
   "source": [
    "# set your path to the download directory:\n",
    "my_path = \"../data/ev/raw/\"\n",
    "\n",
    "my_file_EVTripData   = \"EVTripData.csv\"\n",
    "my_file_EVChargeData = \"EVChargeData.csv\""
   ]
  },
  {
   "cell_type": "markdown",
   "metadata": {},
   "source": [
    "## EVTripData"
   ]
  },
  {
   "cell_type": "code",
   "execution_count": 5,
   "metadata": {},
   "outputs": [],
   "source": [
    "df_trip = pd.read_csv(my_path + my_file_EVTripData,\n",
    "                      # nrows=100, # later None or commented\n",
    "                      parse_dates=[1,2] # makes these columns to type Timestamp\n",
    "                     )\n",
    "# uncomment the following to get the output:\n",
    "# df_trip.info()"
   ]
  },
  {
   "cell_type": "code",
   "execution_count": 6,
   "metadata": {},
   "outputs": [
    {
     "data": {
      "text/html": [
       "<div>\n",
       "<style scoped>\n",
       "    .dataframe tbody tr th:only-of-type {\n",
       "        vertical-align: middle;\n",
       "    }\n",
       "\n",
       "    .dataframe tbody tr th {\n",
       "        vertical-align: top;\n",
       "    }\n",
       "\n",
       "    .dataframe thead th {\n",
       "        text-align: right;\n",
       "    }\n",
       "</style>\n",
       "<table border=\"1\" class=\"dataframe\">\n",
       "  <thead>\n",
       "    <tr style=\"text-align: right;\">\n",
       "      <th></th>\n",
       "      <th>ParticipantID</th>\n",
       "      <th>TripStartDateTime</th>\n",
       "      <th>TripStopDateTime</th>\n",
       "      <th>TripDistance (m)</th>\n",
       "      <th>Power Consumption (Wh)</th>\n",
       "      <th>Odometer at trip start (km)</th>\n",
       "    </tr>\n",
       "  </thead>\n",
       "  <tbody>\n",
       "    <tr>\n",
       "      <th>0</th>\n",
       "      <td>GC10</td>\n",
       "      <td>2013-10-25 10:57:01</td>\n",
       "      <td>2013-10-25 10:59:48</td>\n",
       "      <td>1100.0</td>\n",
       "      <td>193.0</td>\n",
       "      <td>1211</td>\n",
       "    </tr>\n",
       "    <tr>\n",
       "      <th>1</th>\n",
       "      <td>GC10</td>\n",
       "      <td>2013-11-06 12:44:46</td>\n",
       "      <td>2013-11-06 12:48:52</td>\n",
       "      <td>1177.0</td>\n",
       "      <td>366.0</td>\n",
       "      <td>1242</td>\n",
       "    </tr>\n",
       "    <tr>\n",
       "      <th>2</th>\n",
       "      <td>GC10</td>\n",
       "      <td>2013-11-07 10:55:10</td>\n",
       "      <td>2013-11-07 10:57:54</td>\n",
       "      <td>1471.0</td>\n",
       "      <td>380.0</td>\n",
       "      <td>1245</td>\n",
       "    </tr>\n",
       "  </tbody>\n",
       "</table>\n",
       "</div>"
      ],
      "text/plain": [
       "  ParticipantID   TripStartDateTime    TripStopDateTime  TripDistance (m)  \\\n",
       "0          GC10 2013-10-25 10:57:01 2013-10-25 10:59:48            1100.0   \n",
       "1          GC10 2013-11-06 12:44:46 2013-11-06 12:48:52            1177.0   \n",
       "2          GC10 2013-11-07 10:55:10 2013-11-07 10:57:54            1471.0   \n",
       "\n",
       "   Power Consumption (Wh)  Odometer at trip start (km)  \n",
       "0                   193.0                         1211  \n",
       "1                   366.0                         1242  \n",
       "2                   380.0                         1245  "
      ]
     },
     "execution_count": 6,
     "metadata": {},
     "output_type": "execute_result"
    }
   ],
   "source": [
    "# uncomment the following to get the output:\n",
    "df_trip.head(3)"
   ]
  },
  {
   "cell_type": "code",
   "execution_count": 7,
   "metadata": {},
   "outputs": [
    {
     "data": {
      "text/plain": [
       "Timestamp('2013-05-07 18:00:19')"
      ]
     },
     "execution_count": 7,
     "metadata": {},
     "output_type": "execute_result"
    }
   ],
   "source": [
    "df_trip['TripStartDateTime'].min()"
   ]
  },
  {
   "cell_type": "code",
   "execution_count": 8,
   "metadata": {},
   "outputs": [
    {
     "data": {
      "text/plain": [
       "Timestamp('2015-11-29 20:22:11')"
      ]
     },
     "execution_count": 8,
     "metadata": {},
     "output_type": "execute_result"
    }
   ],
   "source": [
    "df_trip['TripStopDateTime'].max()"
   ]
  },
  {
   "cell_type": "code",
   "execution_count": 9,
   "metadata": {},
   "outputs": [],
   "source": [
    "# uncomment the following to get the output:\n",
    "# df_trip.tail(3)"
   ]
  },
  {
   "cell_type": "code",
   "execution_count": 10,
   "metadata": {},
   "outputs": [],
   "source": [
    "# zero Power consumption (Wh) possibel? Yes, see for example:\n",
    "# df_trip['Power Consumption (kWh)'].sort_values()"
   ]
  },
  {
   "cell_type": "markdown",
   "metadata": {},
   "source": [
    "## EVChargeData"
   ]
  },
  {
   "cell_type": "code",
   "execution_count": 11,
   "metadata": {},
   "outputs": [],
   "source": [
    "df_charge = pd.read_csv(my_path + my_file_EVChargeData,\n",
    "                        # nrows=100, # later None or commented\n",
    "                        parse_dates=[1,2] # makes these columns to type Timestamp\n",
    "                       )\n",
    "\n",
    "# uncomment the following to get the output:\n",
    "# df_charge.info()"
   ]
  },
  {
   "cell_type": "code",
   "execution_count": 12,
   "metadata": {},
   "outputs": [
    {
     "data": {
      "text/html": [
       "<div>\n",
       "<style scoped>\n",
       "    .dataframe tbody tr th:only-of-type {\n",
       "        vertical-align: middle;\n",
       "    }\n",
       "\n",
       "    .dataframe tbody tr th {\n",
       "        vertical-align: top;\n",
       "    }\n",
       "\n",
       "    .dataframe thead th {\n",
       "        text-align: right;\n",
       "    }\n",
       "</style>\n",
       "<table border=\"1\" class=\"dataframe\">\n",
       "  <thead>\n",
       "    <tr style=\"text-align: right;\">\n",
       "      <th></th>\n",
       "      <th>ParticipantID</th>\n",
       "      <th>BatteryChargeStartDate</th>\n",
       "      <th>BatteryChargeStopDate</th>\n",
       "      <th>Starting SoC (of 12)</th>\n",
       "      <th>Ending SoC (of 12)</th>\n",
       "    </tr>\n",
       "  </thead>\n",
       "  <tbody>\n",
       "    <tr>\n",
       "      <th>0</th>\n",
       "      <td>GC10</td>\n",
       "      <td>2014-02-16 16:05:00</td>\n",
       "      <td>2014-02-16 17:05:00</td>\n",
       "      <td>1</td>\n",
       "      <td>11</td>\n",
       "    </tr>\n",
       "    <tr>\n",
       "      <th>1</th>\n",
       "      <td>GC10</td>\n",
       "      <td>2014-02-16 18:20:00</td>\n",
       "      <td>2014-02-16 19:00:00</td>\n",
       "      <td>2</td>\n",
       "      <td>11</td>\n",
       "    </tr>\n",
       "    <tr>\n",
       "      <th>2</th>\n",
       "      <td>GC10</td>\n",
       "      <td>2014-02-17 08:10:00</td>\n",
       "      <td>2014-02-17 15:57:00</td>\n",
       "      <td>4</td>\n",
       "      <td>12</td>\n",
       "    </tr>\n",
       "  </tbody>\n",
       "</table>\n",
       "</div>"
      ],
      "text/plain": [
       "  ParticipantID BatteryChargeStartDate BatteryChargeStopDate  \\\n",
       "0          GC10    2014-02-16 16:05:00   2014-02-16 17:05:00   \n",
       "1          GC10    2014-02-16 18:20:00   2014-02-16 19:00:00   \n",
       "2          GC10    2014-02-17 08:10:00   2014-02-17 15:57:00   \n",
       "\n",
       "   Starting SoC (of 12)  Ending SoC (of 12)  \n",
       "0                     1                  11  \n",
       "1                     2                  11  \n",
       "2                     4                  12  "
      ]
     },
     "execution_count": 12,
     "metadata": {},
     "output_type": "execute_result"
    }
   ],
   "source": [
    "# uncomment the following to get the output:\n",
    "df_charge.head(3)"
   ]
  },
  {
   "cell_type": "code",
   "execution_count": 13,
   "metadata": {},
   "outputs": [
    {
     "data": {
      "text/plain": [
       "Timestamp('2013-12-20 10:47:00')"
      ]
     },
     "execution_count": 13,
     "metadata": {},
     "output_type": "execute_result"
    }
   ],
   "source": [
    "df_charge['BatteryChargeStartDate'].min()"
   ]
  },
  {
   "cell_type": "code",
   "execution_count": 14,
   "metadata": {},
   "outputs": [
    {
     "data": {
      "text/plain": [
       "Timestamp('2015-11-29 19:17:00')"
      ]
     },
     "execution_count": 14,
     "metadata": {},
     "output_type": "execute_result"
    }
   ],
   "source": [
    "df_charge['BatteryChargeStopDate'].max()"
   ]
  },
  {
   "cell_type": "markdown",
   "metadata": {},
   "source": [
    "# Process Raw Data"
   ]
  },
  {
   "cell_type": "markdown",
   "metadata": {},
   "source": [
    "## Change Units and Add Columns"
   ]
  },
  {
   "cell_type": "code",
   "execution_count": 15,
   "metadata": {},
   "outputs": [],
   "source": [
    "# df_trip: change units to km and kWh:\n",
    "\n",
    "df_trip[\"TripDistance (km)\"]       = df_trip[\"TripDistance (m)\"]/1000\n",
    "df_trip[\"Power Consumption (kWh)\"] = df_trip[\"Power Consumption (Wh)\"]/1000\n",
    "df_trip.drop(columns=[\"TripDistance (m)\", \"Power Consumption (Wh)\"], inplace=True)"
   ]
  },
  {
   "cell_type": "code",
   "execution_count": 16,
   "metadata": {},
   "outputs": [],
   "source": [
    "# add TripDuration (h):\n",
    "df_trip['TripDuration (h)'] = (df_trip[\"TripStopDateTime\"] - \n",
    "                               df_trip[\"TripStartDateTime\"])/pd.Timedelta('1 hour')\n",
    "# add TripSpeed (km/h):\n",
    "df_trip['TripSpeed (km/h)'] = df_trip[\"TripDistance (km)\"]/df_trip['TripDuration (h)']\n",
    "\n",
    "# add Power (kW):\n",
    "df_trip['Power (kW)'] = df_trip[\"Power Consumption (kWh)\"]/df_trip['TripDuration (h)']"
   ]
  },
  {
   "cell_type": "code",
   "execution_count": 17,
   "metadata": {},
   "outputs": [],
   "source": [
    "# uncomment the following to get the output:\n",
    "# df_trip.head(3)"
   ]
  },
  {
   "cell_type": "code",
   "execution_count": 18,
   "metadata": {},
   "outputs": [],
   "source": [
    "# df_charge:\n",
    "# add BatteryChargeDuration (h):\n",
    "df_charge['BatteryChargeDuration (h)'] = \\\n",
    "    (df_charge[\"BatteryChargeStopDate\"] - \n",
    "     df_charge[\"BatteryChargeStartDate\"])/pd.Timedelta('1 hour')"
   ]
  },
  {
   "cell_type": "code",
   "execution_count": 19,
   "metadata": {},
   "outputs": [],
   "source": [
    "# uncomment the following to get the output:\n",
    "# df_charge.head(3)"
   ]
  },
  {
   "cell_type": "code",
   "execution_count": 20,
   "metadata": {},
   "outputs": [],
   "source": [
    "# uncomment the following to get the output:\n",
    "# df_charge['BatteryChargeDuration (h)'].hist(bins=150, figsize=(12,4))\n",
    "# plt.xlabel('h');"
   ]
  },
  {
   "cell_type": "markdown",
   "metadata": {},
   "source": [
    "### Filter Participants"
   ]
  },
  {
   "cell_type": "code",
   "execution_count": 21,
   "metadata": {},
   "outputs": [
    {
     "name": "stdout",
     "output_type": "stream",
     "text": [
      "number of participants before fitering: 215\n",
      "number of participants after fitering : 100\n"
     ]
    }
   ],
   "source": [
    "my_participants = np.unique(df_trip['ParticipantID'].values) # numpy array of strings\n",
    "\n",
    "# filter out social trial participants:\n",
    "# My Electric Avenue Published Technical Data Overview.pdf says: \n",
    "# \"participants prefixed by ST or SW were allocated to\n",
    "# the social trial, other participants formed the technical trial.\"\n",
    "def my_filter(participant):\n",
    "    if participant[:2] in ['ST','SW']:\n",
    "        return False\n",
    "    else:\n",
    "        return True\n",
    "my_indices = [None]*len(my_participants)\n",
    "for k in range(len(my_participants)):\n",
    "    my_indices[k] = my_filter(my_participants[k])\n",
    "print(f\"number of participants before fitering: {len(my_participants)}\")\n",
    "my_participants = my_participants[my_indices]\n",
    "print(f\"number of participants after fitering : {len(my_participants)}\")"
   ]
  },
  {
   "cell_type": "markdown",
   "metadata": {},
   "source": [
    "# Create One Participant File"
   ]
  },
  {
   "cell_type": "markdown",
   "metadata": {},
   "source": [
    "## Select Participant"
   ]
  },
  {
   "cell_type": "code",
   "execution_count": 22,
   "metadata": {},
   "outputs": [
    {
     "name": "stdout",
     "output_type": "stream",
     "text": [
      "working on participant GC10\n"
     ]
    }
   ],
   "source": [
    "my_participant = 'GC10'\n",
    "# my_participant = my_participants[1]\n",
    "\n",
    "print(f\"working on participant {my_participant}\")"
   ]
  },
  {
   "cell_type": "code",
   "execution_count": 23,
   "metadata": {},
   "outputs": [],
   "source": [
    "# select trip data:\n",
    "my_trip_ind = df_trip['ParticipantID'] == my_participant\n",
    "my_df_trip = df_trip.loc[my_trip_ind,:].sort_values(by=\"TripStartDateTime\")\n",
    "\n",
    "# uncomment the following to get the output:\n",
    "# my_df_trip.head(3)"
   ]
  },
  {
   "cell_type": "code",
   "execution_count": 24,
   "metadata": {},
   "outputs": [],
   "source": [
    "# uncomment the following to get the output:\n",
    "# qgrid.show_grid(my_df_trip[['TripStartDateTime', 'TripStopDateTime','TripDistance (km)','TripDuration (h)']])"
   ]
  },
  {
   "cell_type": "code",
   "execution_count": 25,
   "metadata": {},
   "outputs": [],
   "source": [
    "# select charge data:\n",
    "my_charge_ind = df_charge['ParticipantID'] == my_participant\n",
    "my_df_charge = df_charge.loc[my_charge_ind,:].sort_values(by=\"BatteryChargeStartDate\")\n",
    "\n",
    "# uncomment the following to get the output:\n",
    "# my_df_charge.head(5)"
   ]
  },
  {
   "cell_type": "code",
   "execution_count": 26,
   "metadata": {},
   "outputs": [],
   "source": [
    "# uncomment the following to get the output:\n",
    "# qgrid.show_grid(my_df_charge[[\"BatteryChargeStartDate\",\"BatteryChargeStopDate\"]])"
   ]
  },
  {
   "cell_type": "markdown",
   "metadata": {},
   "source": [
    "## Create Resampled Data\n",
    "\n",
    "Sampling: 15 Minutes. Periods start at the timestamps."
   ]
  },
  {
   "cell_type": "code",
   "execution_count": 27,
   "metadata": {},
   "outputs": [
    {
     "name": "stdout",
     "output_type": "stream",
     "text": [
      "trip data time window:\n",
      "  first trip data period = 2013-10-25 11:00:00\n",
      "  last  trip data period = 2015-08-13 22:45:00\n"
     ]
    }
   ],
   "source": [
    "# determine trip data time window:\n",
    "my_periods_data = my_df_trip['TripStartDateTime'].round(\"15min\")\n",
    "my_periods_data_start = my_periods_data.iloc[0]\n",
    "my_n = len(my_periods_data)\n",
    "my_periods_data_stop  = my_periods_data.iloc[my_n - 1]\n",
    "print(\"trip data time window:\")\n",
    "print(f\"  first trip data period = {my_periods_data_start}\")\n",
    "print(f\"  last  trip data period = {my_periods_data_stop}\")"
   ]
  },
  {
   "cell_type": "markdown",
   "metadata": {},
   "source": [
    "### Select Time Window"
   ]
  },
  {
   "cell_type": "code",
   "execution_count": 28,
   "metadata": {},
   "outputs": [
    {
     "name": "stdout",
     "output_type": "stream",
     "text": [
      "time window selected:\n",
      "  first period = 2014-03-01\n",
      "  last  period = 2014-03-31\n"
     ]
    }
   ],
   "source": [
    "if 1: # select individual time window\n",
    "    my_periods_start = '2014-03-01'\n",
    "    my_periods_stop  = '2014-03-31'\n",
    "else: # select maximal time window\n",
    "    my_periods_start = my_periods_data_start\n",
    "    my_periods_stop  = my_periods_data_stop\n",
    "\n",
    "print(\"time window selected:\")\n",
    "print(f\"  first period = {my_periods_start}\")\n",
    "print(f\"  last  period = {my_periods_stop}\")"
   ]
  },
  {
   "cell_type": "markdown",
   "metadata": {},
   "source": [
    "### Do the Resampling"
   ]
  },
  {
   "cell_type": "code",
   "execution_count": 29,
   "metadata": {},
   "outputs": [
    {
     "name": "stdout",
     "output_type": "stream",
     "text": [
      "resampling ...\n",
      "  found 71 concurrent driving and charging periods.\n",
      "  time used = 0.66 seconds = 0.01 minutes.\n",
      "finished.\n"
     ]
    }
   ],
   "source": [
    "importlib.reload(my);\n",
    "\n",
    "print(\"resampling ...\")\n",
    "my_df_resampled = my.ev_create_resampled_data(\n",
    "    my_periods_start, \n",
    "    my_periods_stop,\n",
    "    my_df_trip, \n",
    "    my_df_charge)\n",
    "print(\"finished.\")"
   ]
  },
  {
   "cell_type": "code",
   "execution_count": 30,
   "metadata": {},
   "outputs": [
    {
     "data": {
      "text/html": [
       "<div>\n",
       "<style scoped>\n",
       "    .dataframe tbody tr th:only-of-type {\n",
       "        vertical-align: middle;\n",
       "    }\n",
       "\n",
       "    .dataframe tbody tr th {\n",
       "        vertical-align: top;\n",
       "    }\n",
       "\n",
       "    .dataframe thead th {\n",
       "        text-align: right;\n",
       "    }\n",
       "</style>\n",
       "<table border=\"1\" class=\"dataframe\">\n",
       "  <thead>\n",
       "    <tr style=\"text-align: right;\">\n",
       "      <th></th>\n",
       "      <th>driving_bool</th>\n",
       "      <th>power_kW</th>\n",
       "      <th>charging_bool</th>\n",
       "      <th>loadable_bool</th>\n",
       "    </tr>\n",
       "  </thead>\n",
       "  <tbody>\n",
       "    <tr>\n",
       "      <th>2014-03-01 00:00:00</th>\n",
       "      <td>False</td>\n",
       "      <td>0.0</td>\n",
       "      <td>False</td>\n",
       "      <td>True</td>\n",
       "    </tr>\n",
       "    <tr>\n",
       "      <th>2014-03-01 00:15:00</th>\n",
       "      <td>False</td>\n",
       "      <td>0.0</td>\n",
       "      <td>False</td>\n",
       "      <td>True</td>\n",
       "    </tr>\n",
       "    <tr>\n",
       "      <th>2014-03-01 00:30:00</th>\n",
       "      <td>False</td>\n",
       "      <td>0.0</td>\n",
       "      <td>False</td>\n",
       "      <td>True</td>\n",
       "    </tr>\n",
       "  </tbody>\n",
       "</table>\n",
       "</div>"
      ],
      "text/plain": [
       "                     driving_bool  power_kW  charging_bool  loadable_bool\n",
       "2014-03-01 00:00:00         False       0.0          False           True\n",
       "2014-03-01 00:15:00         False       0.0          False           True\n",
       "2014-03-01 00:30:00         False       0.0          False           True"
      ]
     },
     "execution_count": 30,
     "metadata": {},
     "output_type": "execute_result"
    }
   ],
   "source": [
    "# uncomment the following to get the output:\n",
    "my_df_resampled.head(3)"
   ]
  },
  {
   "cell_type": "code",
   "execution_count": 31,
   "metadata": {},
   "outputs": [],
   "source": [
    "# uncomment the following to get the output:\n",
    "# qgrid.show_grid(my_df_resampled)"
   ]
  },
  {
   "cell_type": "markdown",
   "metadata": {},
   "source": [
    "### Checks"
   ]
  },
  {
   "cell_type": "code",
   "execution_count": 32,
   "metadata": {},
   "outputs": [
    {
     "name": "stdout",
     "output_type": "stream",
     "text": [
      "- check for rows with a NaN value: OK\n",
      "- check for duplicate timestamps : OK\n",
      "INFO: no check for set of timestamps performed.\n"
     ]
    }
   ],
   "source": [
    "# importlib.reload(my);\n",
    "my.checks(my_df_resampled, my_year='')"
   ]
  },
  {
   "cell_type": "markdown",
   "metadata": {},
   "source": [
    "### View Resampled Data"
   ]
  },
  {
   "cell_type": "code",
   "execution_count": 33,
   "metadata": {},
   "outputs": [
    {
     "name": "stdout",
     "output_type": "stream",
     "text": [
      "<class 'pandas.core.frame.DataFrame'>\n",
      "DatetimeIndex: 2881 entries, 2014-03-01 00:00:00 to 2014-03-31 00:00:00\n",
      "Freq: 15T\n",
      "Data columns (total 4 columns):\n",
      " #   Column         Non-Null Count  Dtype  \n",
      "---  ------         --------------  -----  \n",
      " 0   driving_bool   2881 non-null   bool   \n",
      " 1   power_kW       2881 non-null   float64\n",
      " 2   charging_bool  2881 non-null   bool   \n",
      " 3   loadable_bool  2881 non-null   bool   \n",
      "dtypes: bool(3), float64(1)\n",
      "memory usage: 133.5 KB\n"
     ]
    }
   ],
   "source": [
    "my_df_resampled.info()"
   ]
  },
  {
   "cell_type": "code",
   "execution_count": 34,
   "metadata": {},
   "outputs": [
    {
     "data": {
      "image/png": "[encoded data removed]",
      "text/plain": [
       "<Figure size 576x720 with 4 Axes>"
      ]
     },
     "metadata": {
      "needs_background": "light"
     },
     "output_type": "display_data"
    }
   ],
   "source": [
    "# display a day:\n",
    "my_day = '2014-03-04'\n",
    "my_times = my_df_resampled.loc[my_day,].index\n",
    "\n",
    "plt.figure(figsize=(8,10))\n",
    "plt.subplot(4,1,1)\n",
    "my_col = 'driving_bool'\n",
    "my_df_resampled.loc[my_day,my_col].astype(int).plot(\n",
    "    title=my_col, drawstyle=\"steps-post\", color='red');\n",
    "plt.grid(True, which='both')\n",
    "plt.subplot(4,1,2)\n",
    "my_col = 'power_kW'\n",
    "my_df_resampled.loc[my_day,my_col].plot(\n",
    "    title=my_col, drawstyle=\"steps-post\", color='violet');\n",
    "plt.grid(True, which='both')\n",
    "plt.subplot(4,1,3)\n",
    "my_col = 'charging_bool'\n",
    "my_df_resampled.loc[my_day,my_col].astype(int).plot(\n",
    "    title=my_col, drawstyle=\"steps-post\", color=\"orange\");\n",
    "plt.grid(True, which='both')\n",
    "plt.subplot(4,1,4)\n",
    "my_col = 'loadable_bool'\n",
    "my_df_resampled.loc[my_day,my_col].astype(int).plot(\n",
    "    title=my_col, drawstyle=\"steps-post\", color='green');\n",
    "plt.grid(True, which='both')\n",
    "plt.tight_layout()"
   ]
  },
  {
   "cell_type": "code",
   "execution_count": 35,
   "metadata": {},
   "outputs": [
    {
     "data": {
      "text/plain": [
       "Int64Index([5, 5, 5, 5, 5, 5, 5, 5, 5, 5,\n",
       "            ...\n",
       "            6, 6, 6, 6, 6, 6, 6, 6, 6, 0],\n",
       "           dtype='int64', length=2881)"
      ]
     },
     "execution_count": 35,
     "metadata": {},
     "output_type": "execute_result"
    }
   ],
   "source": [
    "# The day of the week with Monday=0, Sunday=6.\n",
    "my_df_resampled.index.weekday"
   ]
  },
  {
   "cell_type": "markdown",
   "metadata": {},
   "source": [
    "### Export and Import Resampled Data"
   ]
  },
  {
   "cell_type": "code",
   "execution_count": 36,
   "metadata": {},
   "outputs": [],
   "source": [
    "# export to pickle:\n",
    "my_df_resampled.to_pickle(f\"../data/ev/processed/ev_df_{my_participant}.pickle\")\n",
    "\n",
    "if 0: # export to csv:\n",
    "    my_df_resampled.to_csv(f\"../data/ev/processed/ev_df_{my_participant}.csv\")"
   ]
  },
  {
   "cell_type": "code",
   "execution_count": 37,
   "metadata": {},
   "outputs": [],
   "source": [
    "# import pickle:\n",
    "my_df_resampled = pd.read_pickle(f\"../data/ev/processed/ev_df_{my_participant}.pickle\")\n",
    "\n",
    "if 0: # import csv:\n",
    "    my_df_resampled = pd.read_csv(f\"../data/ev/processed/ev_df_{my_participant}.csv\")"
   ]
  },
  {
   "cell_type": "markdown",
   "metadata": {},
   "source": [
    "# Batch Creation of Participant Files"
   ]
  },
  {
   "cell_type": "code",
   "execution_count": 38,
   "metadata": {},
   "outputs": [
    {
     "name": "stdout",
     "output_type": "stream",
     "text": [
      "working on participant BL01 ... \n",
      "  found 461 concurrent driving and charging periods.\n",
      "  time used = 12.70 seconds = 0.21 minutes.\n",
      "finished.\n",
      "working on participant BL02 ... \n",
      "  found 413 concurrent driving and charging periods.\n",
      "  time used = 11.95 seconds = 0.20 minutes.\n",
      "finished.\n",
      "working on participant BL03 ... \n",
      "  found 292 concurrent driving and charging periods.\n",
      "  time used = 14.38 seconds = 0.24 minutes.\n",
      "finished.\n",
      "working on participant BL04 ... \n",
      "  found 185 concurrent driving and charging periods.\n",
      "  time used = 11.08 seconds = 0.18 minutes.\n",
      "finished.\n",
      "working on participant BL05 ... \n",
      "  found 284 concurrent driving and charging periods.\n",
      "  time used = 9.36 seconds = 0.16 minutes.\n",
      "finished.\n",
      "working on participant BL06 ... \n",
      "  found 100 concurrent driving and charging periods.\n",
      "  time used = 11.08 seconds = 0.18 minutes.\n",
      "finished.\n",
      "working on participant BL08 ... \n",
      "  found 203 concurrent driving and charging periods.\n",
      "  time used = 14.28 seconds = 0.24 minutes.\n",
      "finished.\n",
      "working on participant CC01 ... \n",
      "  found 30 concurrent driving and charging periods.\n",
      "  time used = 13.76 seconds = 0.23 minutes.\n",
      "finished.\n",
      "working on participant CC02 ... \n",
      "  found 35 concurrent driving and charging periods.\n",
      "  time used = 14.17 seconds = 0.24 minutes.\n",
      "finished.\n",
      "working on participant CC04 ... \n",
      "  found 83 concurrent driving and charging periods.\n",
      "  time used = 12.40 seconds = 0.21 minutes.\n",
      "finished.\n",
      "writing selected participant IDs to a pickle file ... finished.\n",
      "Finished all.\n"
     ]
    }
   ],
   "source": [
    "importlib.reload(my);\n",
    "\n",
    "N = 10 # number of participants, max. 100\n",
    "\n",
    "for my_participant in my_participants[:N]:\n",
    "    print(f\"working on participant {my_participant} ... \")\n",
    "    # select trip data:\n",
    "    my_trip_ind = df_trip['ParticipantID'] == my_participant\n",
    "    my_df_trip = df_trip.loc[my_trip_ind,:].sort_values(by=\"TripStartDateTime\")\n",
    "    # select charge data:\n",
    "    my_charge_ind = df_charge['ParticipantID'] == my_participant\n",
    "    my_df_charge = df_charge.loc[my_charge_ind,:].sort_values(by=\"BatteryChargeStartDate\")\n",
    "    # determine trip data time window:\n",
    "    my_periods_data = my_df_trip['TripStartDateTime'].round(\"15min\")\n",
    "    my_periods_data_start = my_periods_data.iloc[0]\n",
    "    my_n = len(my_periods_data)\n",
    "    my_periods_data_stop  = my_periods_data.iloc[my_n - 1]\n",
    "    # # select maximal time window:\n",
    "    my_periods_start = my_periods_data_start\n",
    "    my_periods_stop  = my_periods_data_stop\n",
    "    my_df_resampled = my.ev_create_resampled_data(\n",
    "                            my_periods_start, \n",
    "                            my_periods_stop,\n",
    "                            my_df_trip, \n",
    "                            my_df_charge)\n",
    "    # export to pickle:\n",
    "    my_df_resampled.to_pickle(\n",
    "        f\"../data/ev/processed/ev_df_{my_participant}.pickle\")\n",
    "    if 0: # export to csv:\n",
    "        my_df_resampled.to_csv(\n",
    "            f\"../data/ev/processed/ev_df_{my_participant}.csv\")\n",
    "    print(\"finished.\")\n",
    "\n",
    "# write selected participant IDs to a pickle file:\n",
    "print(f\"writing selected participant IDs to a pickle file ... \", end=\"\")\n",
    "with open('../data/ev/processed/participant_IDs.pickle', 'wb') as fp:\n",
    "    pickle.dump(my_participants[:N], fp)\n",
    "print(\"finished.\")\n",
    "    \n",
    "print(\"Finished all.\")"
   ]
  },
  {
   "cell_type": "code",
   "execution_count": null,
   "metadata": {},
   "outputs": [],
   "source": []
  }
 ],
 "metadata": {
  "kernelspec": {
   "display_name": "Python 3",
   "language": "python",
   "name": "python3"
  },
  "language_info": {
   "codemirror_mode": {
    "name": "ipython",
    "version": 3
   },
   "file_extension": ".py",
   "mimetype": "text/x-python",
   "name": "python",
   "nbconvert_exporter": "python",
   "pygments_lexer": "ipython3",
   "version": "3.8.6"
  },
  "toc-autonumbering": true
 },
 "nbformat": 4,
 "nbformat_minor": 4
}
