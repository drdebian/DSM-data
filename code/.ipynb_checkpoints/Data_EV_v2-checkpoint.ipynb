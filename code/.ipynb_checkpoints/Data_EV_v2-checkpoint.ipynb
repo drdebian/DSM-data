{
 "cells": [
  {
   "cell_type": "markdown",
   "metadata": {},
   "source": [
    "# Python Configuration"
   ]
  },
  {
   "cell_type": "code",
   "execution_count": 1,
   "metadata": {},
   "outputs": [
    {
     "name": "stdout",
     "output_type": "stream",
     "text": [
      "python version = 3.8.6\n",
      "numpy      version = 1.19.2\n",
      "pandas     version = 1.1.3\n",
      "matplotlib version = 3.3.2\n",
      "qgrid      version = 1.3.1\n"
     ]
    }
   ],
   "source": [
    "# python version:\n",
    "from platform import python_version\n",
    "print(f\"python version = {python_version()}\")\n",
    "\n",
    "# import packages:\n",
    "import numpy as np\n",
    "import pandas as pd\n",
    "import matplotlib\n",
    "import matplotlib.pyplot as plt\n",
    "import time\n",
    "import qgrid\n",
    "\n",
    "# package versions:\n",
    "print(f\"numpy      version = {np.__version__}\")\n",
    "print(f\"pandas     version = {pd.__version__}\")\n",
    "print(f\"matplotlib version = {matplotlib.__version__}\")\n",
    "print(f\"qgrid      version = {qgrid.__version__}\")\n",
    "\n",
    "# some matplotlib configurations:\n",
    "plt.rcParams['axes.titlesize']  = 14\n",
    "plt.rcParams['axes.labelsize']  = 14\n",
    "plt.rcParams['xtick.labelsize'] = 14\n",
    "plt.rcParams['ytick.labelsize'] = 14\n",
    "plt.rcParams['legend.fontsize'] = 12\n",
    "plt.rcParams['lines.linewidth'] = 2"
   ]
  },
  {
   "cell_type": "markdown",
   "metadata": {},
   "source": [
    "# Raw Data Source"
   ]
  },
  {
   "cell_type": "markdown",
   "metadata": {},
   "source": [
    "**My Electric Avenue** monitored the usage of over 200 EVs, cf. `My Electric Avenue Published Technical Data Overview.pdf` in the download:\n",
    "\n",
    "- time frame: Jan 2014 - Jun 2015\n",
    "- sampling interval: 1 second, event based\n",
    "- location: UK\n",
    "- legal notice: \"This data was collected as part of a customer funded Low Carbon Networks Fund project. A condition of this funding is that collected data is released for further work by other parties.\" cf. `My Electric Avenue Published Technical Data Overview.pdf`.\n",
    "- [project homepage](http://myelectricavenue.info/)\n",
    "- [download at eatechnology.com](https://eatechnology.com/my-electric-avenue-download/)"
   ]
  },
  {
   "cell_type": "code",
   "execution_count": 2,
   "metadata": {},
   "outputs": [],
   "source": [
    "# My Electric Avenue Published Technical Data Overview.pdf says: \n",
    "# The social trial participants were spread across Britain and \n",
    "# did not have their EV charging curtailed. [...]\n",
    "# The first two letters of the participant ID identify their cluster, \n",
    "# those participants prefixed by ST or SW were allocated to\n",
    "# the social trial, other participants formed the technical trial.\n",
    "\n",
    "# TODO: Filter out social trial participants?"
   ]
  },
  {
   "cell_type": "markdown",
   "metadata": {},
   "source": [
    "# Loading Raw Data"
   ]
  },
  {
   "cell_type": "code",
   "execution_count": 3,
   "metadata": {},
   "outputs": [],
   "source": [
    "# path to download directory:\n",
    "my_path = \"/home/kr/forschung/data/My_Electric_Avenue/Data/\"\n",
    "\n",
    "my_file_EVTripData   = \"EVTripData.csv\"\n",
    "my_file_EVChargeData = \"EVChargeData.csv\""
   ]
  },
  {
   "cell_type": "markdown",
   "metadata": {},
   "source": [
    "## EVTripData"
   ]
  },
  {
   "cell_type": "code",
   "execution_count": 4,
   "metadata": {},
   "outputs": [
    {
     "name": "stdout",
     "output_type": "stream",
     "text": [
      "<class 'pandas.core.frame.DataFrame'>\n",
      "RangeIndex: 383051 entries, 0 to 383050\n",
      "Data columns (total 6 columns):\n",
      " #   Column                       Non-Null Count   Dtype         \n",
      "---  ------                       --------------   -----         \n",
      " 0   ParticipantID                383051 non-null  object        \n",
      " 1   TripStartDateTime            383051 non-null  datetime64[ns]\n",
      " 2   TripStopDateTime             383051 non-null  datetime64[ns]\n",
      " 3   TripDistance (m)             383051 non-null  float64       \n",
      " 4   Power Consumption (Wh)       383051 non-null  float64       \n",
      " 5   Odometer at trip start (km)  383051 non-null  int64         \n",
      "dtypes: datetime64[ns](2), float64(2), int64(1), object(1)\n",
      "memory usage: 17.5+ MB\n"
     ]
    }
   ],
   "source": [
    "df_trip = pd.read_csv(my_path + my_file_EVTripData,\n",
    "                      # nrows=100, # later None or commented\n",
    "                      parse_dates=[1,2] # makes these columns to type Timestamp\n",
    "                     )\n",
    "df_trip.info()"
   ]
  },
  {
   "cell_type": "code",
   "execution_count": 5,
   "metadata": {},
   "outputs": [
    {
     "data": {
      "text/html": [
       "<div>\n",
       "<style scoped>\n",
       "    .dataframe tbody tr th:only-of-type {\n",
       "        vertical-align: middle;\n",
       "    }\n",
       "\n",
       "    .dataframe tbody tr th {\n",
       "        vertical-align: top;\n",
       "    }\n",
       "\n",
       "    .dataframe thead th {\n",
       "        text-align: right;\n",
       "    }\n",
       "</style>\n",
       "<table border=\"1\" class=\"dataframe\">\n",
       "  <thead>\n",
       "    <tr style=\"text-align: right;\">\n",
       "      <th></th>\n",
       "      <th>ParticipantID</th>\n",
       "      <th>TripStartDateTime</th>\n",
       "      <th>TripStopDateTime</th>\n",
       "      <th>TripDistance (m)</th>\n",
       "      <th>Power Consumption (Wh)</th>\n",
       "      <th>Odometer at trip start (km)</th>\n",
       "    </tr>\n",
       "  </thead>\n",
       "  <tbody>\n",
       "    <tr>\n",
       "      <th>0</th>\n",
       "      <td>GC10</td>\n",
       "      <td>2013-10-25 10:57:01</td>\n",
       "      <td>2013-10-25 10:59:48</td>\n",
       "      <td>1100.0</td>\n",
       "      <td>193.0</td>\n",
       "      <td>1211</td>\n",
       "    </tr>\n",
       "    <tr>\n",
       "      <th>1</th>\n",
       "      <td>GC10</td>\n",
       "      <td>2013-11-06 12:44:46</td>\n",
       "      <td>2013-11-06 12:48:52</td>\n",
       "      <td>1177.0</td>\n",
       "      <td>366.0</td>\n",
       "      <td>1242</td>\n",
       "    </tr>\n",
       "    <tr>\n",
       "      <th>2</th>\n",
       "      <td>GC10</td>\n",
       "      <td>2013-11-07 10:55:10</td>\n",
       "      <td>2013-11-07 10:57:54</td>\n",
       "      <td>1471.0</td>\n",
       "      <td>380.0</td>\n",
       "      <td>1245</td>\n",
       "    </tr>\n",
       "  </tbody>\n",
       "</table>\n",
       "</div>"
      ],
      "text/plain": [
       "  ParticipantID   TripStartDateTime    TripStopDateTime  TripDistance (m)  \\\n",
       "0          GC10 2013-10-25 10:57:01 2013-10-25 10:59:48            1100.0   \n",
       "1          GC10 2013-11-06 12:44:46 2013-11-06 12:48:52            1177.0   \n",
       "2          GC10 2013-11-07 10:55:10 2013-11-07 10:57:54            1471.0   \n",
       "\n",
       "   Power Consumption (Wh)  Odometer at trip start (km)  \n",
       "0                   193.0                         1211  \n",
       "1                   366.0                         1242  \n",
       "2                   380.0                         1245  "
      ]
     },
     "execution_count": 5,
     "metadata": {},
     "output_type": "execute_result"
    }
   ],
   "source": [
    "df_trip.head(3)"
   ]
  },
  {
   "cell_type": "code",
   "execution_count": 6,
   "metadata": {},
   "outputs": [
    {
     "data": {
      "text/html": [
       "<div>\n",
       "<style scoped>\n",
       "    .dataframe tbody tr th:only-of-type {\n",
       "        vertical-align: middle;\n",
       "    }\n",
       "\n",
       "    .dataframe tbody tr th {\n",
       "        vertical-align: top;\n",
       "    }\n",
       "\n",
       "    .dataframe thead th {\n",
       "        text-align: right;\n",
       "    }\n",
       "</style>\n",
       "<table border=\"1\" class=\"dataframe\">\n",
       "  <thead>\n",
       "    <tr style=\"text-align: right;\">\n",
       "      <th></th>\n",
       "      <th>ParticipantID</th>\n",
       "      <th>TripStartDateTime</th>\n",
       "      <th>TripStopDateTime</th>\n",
       "      <th>TripDistance (m)</th>\n",
       "      <th>Power Consumption (Wh)</th>\n",
       "      <th>Odometer at trip start (km)</th>\n",
       "    </tr>\n",
       "  </thead>\n",
       "  <tbody>\n",
       "    <tr>\n",
       "      <th>383048</th>\n",
       "      <td>YH11</td>\n",
       "      <td>2015-11-29 14:17:58</td>\n",
       "      <td>2015-11-29 14:30:04</td>\n",
       "      <td>11094.0</td>\n",
       "      <td>2415.0</td>\n",
       "      <td>24379</td>\n",
       "    </tr>\n",
       "    <tr>\n",
       "      <th>383049</th>\n",
       "      <td>SW10</td>\n",
       "      <td>2015-11-29 09:19:51</td>\n",
       "      <td>2015-11-29 09:30:20</td>\n",
       "      <td>6432.0</td>\n",
       "      <td>975.0</td>\n",
       "      <td>17318</td>\n",
       "    </tr>\n",
       "    <tr>\n",
       "      <th>383050</th>\n",
       "      <td>ST1080</td>\n",
       "      <td>2015-11-29 14:12:32</td>\n",
       "      <td>2015-11-29 14:25:40</td>\n",
       "      <td>6817.0</td>\n",
       "      <td>1537.0</td>\n",
       "      <td>24312</td>\n",
       "    </tr>\n",
       "  </tbody>\n",
       "</table>\n",
       "</div>"
      ],
      "text/plain": [
       "       ParticipantID   TripStartDateTime    TripStopDateTime  \\\n",
       "383048          YH11 2015-11-29 14:17:58 2015-11-29 14:30:04   \n",
       "383049          SW10 2015-11-29 09:19:51 2015-11-29 09:30:20   \n",
       "383050        ST1080 2015-11-29 14:12:32 2015-11-29 14:25:40   \n",
       "\n",
       "        TripDistance (m)  Power Consumption (Wh)  Odometer at trip start (km)  \n",
       "383048           11094.0                  2415.0                        24379  \n",
       "383049            6432.0                   975.0                        17318  \n",
       "383050            6817.0                  1537.0                        24312  "
      ]
     },
     "execution_count": 6,
     "metadata": {},
     "output_type": "execute_result"
    }
   ],
   "source": [
    "df_trip.tail(3)"
   ]
  },
  {
   "cell_type": "markdown",
   "metadata": {},
   "source": [
    "## EVChargeData"
   ]
  },
  {
   "cell_type": "code",
   "execution_count": 7,
   "metadata": {},
   "outputs": [
    {
     "name": "stdout",
     "output_type": "stream",
     "text": [
      "<class 'pandas.core.frame.DataFrame'>\n",
      "RangeIndex: 76698 entries, 0 to 76697\n",
      "Data columns (total 5 columns):\n",
      " #   Column                  Non-Null Count  Dtype         \n",
      "---  ------                  --------------  -----         \n",
      " 0   ParticipantID           76698 non-null  object        \n",
      " 1   BatteryChargeStartDate  76698 non-null  datetime64[ns]\n",
      " 2   BatteryChargeStopDate   76698 non-null  datetime64[ns]\n",
      " 3   Starting SoC (of 12)    76698 non-null  int64         \n",
      " 4   Ending SoC (of 12)      76698 non-null  int64         \n",
      "dtypes: datetime64[ns](2), int64(2), object(1)\n",
      "memory usage: 2.9+ MB\n"
     ]
    }
   ],
   "source": [
    "df_charge = pd.read_csv(my_path + my_file_EVChargeData,\n",
    "                        # nrows=100, # later None or commented\n",
    "                        parse_dates=[1,2] # makes these columns to type Timestamp\n",
    "                       )\n",
    "df_charge.info()"
   ]
  },
  {
   "cell_type": "code",
   "execution_count": 8,
   "metadata": {},
   "outputs": [
    {
     "data": {
      "text/html": [
       "<div>\n",
       "<style scoped>\n",
       "    .dataframe tbody tr th:only-of-type {\n",
       "        vertical-align: middle;\n",
       "    }\n",
       "\n",
       "    .dataframe tbody tr th {\n",
       "        vertical-align: top;\n",
       "    }\n",
       "\n",
       "    .dataframe thead th {\n",
       "        text-align: right;\n",
       "    }\n",
       "</style>\n",
       "<table border=\"1\" class=\"dataframe\">\n",
       "  <thead>\n",
       "    <tr style=\"text-align: right;\">\n",
       "      <th></th>\n",
       "      <th>ParticipantID</th>\n",
       "      <th>BatteryChargeStartDate</th>\n",
       "      <th>BatteryChargeStopDate</th>\n",
       "      <th>Starting SoC (of 12)</th>\n",
       "      <th>Ending SoC (of 12)</th>\n",
       "    </tr>\n",
       "  </thead>\n",
       "  <tbody>\n",
       "    <tr>\n",
       "      <th>0</th>\n",
       "      <td>GC10</td>\n",
       "      <td>2014-02-16 16:05:00</td>\n",
       "      <td>2014-02-16 17:05:00</td>\n",
       "      <td>1</td>\n",
       "      <td>11</td>\n",
       "    </tr>\n",
       "    <tr>\n",
       "      <th>1</th>\n",
       "      <td>GC10</td>\n",
       "      <td>2014-02-16 18:20:00</td>\n",
       "      <td>2014-02-16 19:00:00</td>\n",
       "      <td>2</td>\n",
       "      <td>11</td>\n",
       "    </tr>\n",
       "    <tr>\n",
       "      <th>2</th>\n",
       "      <td>GC10</td>\n",
       "      <td>2014-02-17 08:10:00</td>\n",
       "      <td>2014-02-17 15:57:00</td>\n",
       "      <td>4</td>\n",
       "      <td>12</td>\n",
       "    </tr>\n",
       "    <tr>\n",
       "      <th>3</th>\n",
       "      <td>GC10</td>\n",
       "      <td>2014-02-18 07:41:00</td>\n",
       "      <td>2014-02-18 09:52:00</td>\n",
       "      <td>5</td>\n",
       "      <td>8</td>\n",
       "    </tr>\n",
       "    <tr>\n",
       "      <th>4</th>\n",
       "      <td>GC10</td>\n",
       "      <td>2014-02-18 15:36:00</td>\n",
       "      <td>2014-02-18 15:39:00</td>\n",
       "      <td>4</td>\n",
       "      <td>4</td>\n",
       "    </tr>\n",
       "  </tbody>\n",
       "</table>\n",
       "</div>"
      ],
      "text/plain": [
       "  ParticipantID BatteryChargeStartDate BatteryChargeStopDate  \\\n",
       "0          GC10    2014-02-16 16:05:00   2014-02-16 17:05:00   \n",
       "1          GC10    2014-02-16 18:20:00   2014-02-16 19:00:00   \n",
       "2          GC10    2014-02-17 08:10:00   2014-02-17 15:57:00   \n",
       "3          GC10    2014-02-18 07:41:00   2014-02-18 09:52:00   \n",
       "4          GC10    2014-02-18 15:36:00   2014-02-18 15:39:00   \n",
       "\n",
       "   Starting SoC (of 12)  Ending SoC (of 12)  \n",
       "0                     1                  11  \n",
       "1                     2                  11  \n",
       "2                     4                  12  \n",
       "3                     5                   8  \n",
       "4                     4                   4  "
      ]
     },
     "execution_count": 8,
     "metadata": {},
     "output_type": "execute_result"
    }
   ],
   "source": [
    "df_charge.head()"
   ]
  },
  {
   "cell_type": "markdown",
   "metadata": {},
   "source": [
    "# Processing of Raw Data"
   ]
  },
  {
   "cell_type": "code",
   "execution_count": 9,
   "metadata": {},
   "outputs": [],
   "source": [
    "# df_trip: change units to km and kWh:\n",
    "\n",
    "df_trip[\"TripDistance (km)\"]       = df_trip[\"TripDistance (m)\"]/1000\n",
    "df_trip[\"Power Consumption (kWh)\"] = df_trip[\"Power Consumption (Wh)\"]/1000\n",
    "df_trip.drop(columns=[\"TripDistance (m)\", \"Power Consumption (Wh)\"], inplace=True)"
   ]
  },
  {
   "cell_type": "code",
   "execution_count": 10,
   "metadata": {},
   "outputs": [],
   "source": [
    "# add TripDuration (h):\n",
    "df_trip['TripDuration (h)'] = (df_trip[\"TripStopDateTime\"] - \n",
    "                               df_trip[\"TripStartDateTime\"])/pd.Timedelta('1 hour')\n",
    "# add TripSpeed (km/h):\n",
    "df_trip['TripSpeed (km/h)'] = df_trip[\"TripDistance (km)\"]/df_trip['TripDuration (h)']\n",
    "\n",
    "# add Power (kW):\n",
    "df_trip['Power (kW)'] = df_trip[\"Power Consumption (kWh)\"]/df_trip['TripDuration (h)']"
   ]
  },
  {
   "cell_type": "code",
   "execution_count": 11,
   "metadata": {},
   "outputs": [
    {
     "data": {
      "text/html": [
       "<div>\n",
       "<style scoped>\n",
       "    .dataframe tbody tr th:only-of-type {\n",
       "        vertical-align: middle;\n",
       "    }\n",
       "\n",
       "    .dataframe tbody tr th {\n",
       "        vertical-align: top;\n",
       "    }\n",
       "\n",
       "    .dataframe thead th {\n",
       "        text-align: right;\n",
       "    }\n",
       "</style>\n",
       "<table border=\"1\" class=\"dataframe\">\n",
       "  <thead>\n",
       "    <tr style=\"text-align: right;\">\n",
       "      <th></th>\n",
       "      <th>ParticipantID</th>\n",
       "      <th>TripStartDateTime</th>\n",
       "      <th>TripStopDateTime</th>\n",
       "      <th>Odometer at trip start (km)</th>\n",
       "      <th>TripDistance (km)</th>\n",
       "      <th>Power Consumption (kWh)</th>\n",
       "      <th>TripDuration (h)</th>\n",
       "      <th>TripSpeed (km/h)</th>\n",
       "      <th>Power (kW)</th>\n",
       "    </tr>\n",
       "  </thead>\n",
       "  <tbody>\n",
       "    <tr>\n",
       "      <th>0</th>\n",
       "      <td>GC10</td>\n",
       "      <td>2013-10-25 10:57:01</td>\n",
       "      <td>2013-10-25 10:59:48</td>\n",
       "      <td>1211</td>\n",
       "      <td>1.100</td>\n",
       "      <td>0.193</td>\n",
       "      <td>0.046389</td>\n",
       "      <td>23.712575</td>\n",
       "      <td>4.160479</td>\n",
       "    </tr>\n",
       "    <tr>\n",
       "      <th>1</th>\n",
       "      <td>GC10</td>\n",
       "      <td>2013-11-06 12:44:46</td>\n",
       "      <td>2013-11-06 12:48:52</td>\n",
       "      <td>1242</td>\n",
       "      <td>1.177</td>\n",
       "      <td>0.366</td>\n",
       "      <td>0.068333</td>\n",
       "      <td>17.224390</td>\n",
       "      <td>5.356098</td>\n",
       "    </tr>\n",
       "    <tr>\n",
       "      <th>2</th>\n",
       "      <td>GC10</td>\n",
       "      <td>2013-11-07 10:55:10</td>\n",
       "      <td>2013-11-07 10:57:54</td>\n",
       "      <td>1245</td>\n",
       "      <td>1.471</td>\n",
       "      <td>0.380</td>\n",
       "      <td>0.045556</td>\n",
       "      <td>32.290244</td>\n",
       "      <td>8.341463</td>\n",
       "    </tr>\n",
       "  </tbody>\n",
       "</table>\n",
       "</div>"
      ],
      "text/plain": [
       "  ParticipantID   TripStartDateTime    TripStopDateTime  \\\n",
       "0          GC10 2013-10-25 10:57:01 2013-10-25 10:59:48   \n",
       "1          GC10 2013-11-06 12:44:46 2013-11-06 12:48:52   \n",
       "2          GC10 2013-11-07 10:55:10 2013-11-07 10:57:54   \n",
       "\n",
       "   Odometer at trip start (km)  TripDistance (km)  Power Consumption (kWh)  \\\n",
       "0                         1211              1.100                    0.193   \n",
       "1                         1242              1.177                    0.366   \n",
       "2                         1245              1.471                    0.380   \n",
       "\n",
       "   TripDuration (h)  TripSpeed (km/h)  Power (kW)  \n",
       "0          0.046389         23.712575    4.160479  \n",
       "1          0.068333         17.224390    5.356098  \n",
       "2          0.045556         32.290244    8.341463  "
      ]
     },
     "execution_count": 11,
     "metadata": {},
     "output_type": "execute_result"
    }
   ],
   "source": [
    "df_trip.head(3)"
   ]
  },
  {
   "cell_type": "code",
   "execution_count": 12,
   "metadata": {},
   "outputs": [],
   "source": [
    "# df_charge:\n",
    "# add BatteryChargeDuration (h):\n",
    "df_charge['BatteryChargeDuration (h)'] = \\\n",
    "    (df_charge[\"BatteryChargeStopDate\"] - \n",
    "     df_charge[\"BatteryChargeStartDate\"])/pd.Timedelta('1 hour')"
   ]
  },
  {
   "cell_type": "code",
   "execution_count": 13,
   "metadata": {},
   "outputs": [
    {
     "data": {
      "text/html": [
       "<div>\n",
       "<style scoped>\n",
       "    .dataframe tbody tr th:only-of-type {\n",
       "        vertical-align: middle;\n",
       "    }\n",
       "\n",
       "    .dataframe tbody tr th {\n",
       "        vertical-align: top;\n",
       "    }\n",
       "\n",
       "    .dataframe thead th {\n",
       "        text-align: right;\n",
       "    }\n",
       "</style>\n",
       "<table border=\"1\" class=\"dataframe\">\n",
       "  <thead>\n",
       "    <tr style=\"text-align: right;\">\n",
       "      <th></th>\n",
       "      <th>ParticipantID</th>\n",
       "      <th>BatteryChargeStartDate</th>\n",
       "      <th>BatteryChargeStopDate</th>\n",
       "      <th>Starting SoC (of 12)</th>\n",
       "      <th>Ending SoC (of 12)</th>\n",
       "      <th>BatteryChargeDuration (h)</th>\n",
       "    </tr>\n",
       "  </thead>\n",
       "  <tbody>\n",
       "    <tr>\n",
       "      <th>0</th>\n",
       "      <td>GC10</td>\n",
       "      <td>2014-02-16 16:05:00</td>\n",
       "      <td>2014-02-16 17:05:00</td>\n",
       "      <td>1</td>\n",
       "      <td>11</td>\n",
       "      <td>1.000000</td>\n",
       "    </tr>\n",
       "    <tr>\n",
       "      <th>1</th>\n",
       "      <td>GC10</td>\n",
       "      <td>2014-02-16 18:20:00</td>\n",
       "      <td>2014-02-16 19:00:00</td>\n",
       "      <td>2</td>\n",
       "      <td>11</td>\n",
       "      <td>0.666667</td>\n",
       "    </tr>\n",
       "    <tr>\n",
       "      <th>2</th>\n",
       "      <td>GC10</td>\n",
       "      <td>2014-02-17 08:10:00</td>\n",
       "      <td>2014-02-17 15:57:00</td>\n",
       "      <td>4</td>\n",
       "      <td>12</td>\n",
       "      <td>7.783333</td>\n",
       "    </tr>\n",
       "  </tbody>\n",
       "</table>\n",
       "</div>"
      ],
      "text/plain": [
       "  ParticipantID BatteryChargeStartDate BatteryChargeStopDate  \\\n",
       "0          GC10    2014-02-16 16:05:00   2014-02-16 17:05:00   \n",
       "1          GC10    2014-02-16 18:20:00   2014-02-16 19:00:00   \n",
       "2          GC10    2014-02-17 08:10:00   2014-02-17 15:57:00   \n",
       "\n",
       "   Starting SoC (of 12)  Ending SoC (of 12)  BatteryChargeDuration (h)  \n",
       "0                     1                  11                   1.000000  \n",
       "1                     2                  11                   0.666667  \n",
       "2                     4                  12                   7.783333  "
      ]
     },
     "execution_count": 13,
     "metadata": {},
     "output_type": "execute_result"
    }
   ],
   "source": [
    "df_charge.head(3)"
   ]
  },
  {
   "cell_type": "code",
   "execution_count": 14,
   "metadata": {},
   "outputs": [
    {
     "data": {
      "image/png": "[encoded data removed]",
      "text/plain": [
       "<Figure size 864x288 with 1 Axes>"
      ]
     },
     "metadata": {
      "needs_background": "light"
     },
     "output_type": "display_data"
    }
   ],
   "source": [
    "df_charge['BatteryChargeDuration (h)'].hist(bins=150, figsize=(12,4))\n",
    "plt.xlabel('h');"
   ]
  },
  {
   "cell_type": "markdown",
   "metadata": {},
   "source": [
    "## Individual Participant"
   ]
  },
  {
   "cell_type": "code",
   "execution_count": 15,
   "metadata": {},
   "outputs": [
    {
     "name": "stdout",
     "output_type": "stream",
     "text": [
      "number of participants before fitering: 215\n",
      "number of participants after fitering: 100\n"
     ]
    }
   ],
   "source": [
    "# list of participants:\n",
    "my_participants = np.unique(df_trip['ParticipantID'].values) # numpy array of strings\n",
    "\n",
    "if True: # filter out social trial participants:\n",
    "    # My Electric Avenue Published Technical Data Overview.pdf says: \n",
    "    # \"participants prefixed by ST or SW were allocated to\n",
    "    # the social trial, other participants formed the technical trial.\"\n",
    "    def my_filter(participant):\n",
    "        if participant[:2] in ['ST','SW']:\n",
    "            return False\n",
    "        else:\n",
    "            return True\n",
    "    my_indices = [None]*len(my_participants)\n",
    "    for k in range(len(my_participants)):\n",
    "        my_indices[k] = my_filter(my_participants[k])\n",
    "    print(f\"number of participants before fitering: {len(my_participants)}\")\n",
    "    my_participants = my_participants[my_indices]\n",
    "    print(f\"number of participants after fitering: {len(my_participants)}\")"
   ]
  },
  {
   "cell_type": "code",
   "execution_count": 16,
   "metadata": {},
   "outputs": [
    {
     "name": "stdout",
     "output_type": "stream",
     "text": [
      "working on participant GC10\n"
     ]
    }
   ],
   "source": [
    "my_participant = 'GC10'\n",
    "# my_participant = my_participants[0]\n",
    "\n",
    "print(f\"working on participant {my_participant}\")"
   ]
  },
  {
   "cell_type": "code",
   "execution_count": 17,
   "metadata": {},
   "outputs": [
    {
     "data": {
      "text/html": [
       "<div>\n",
       "<style scoped>\n",
       "    .dataframe tbody tr th:only-of-type {\n",
       "        vertical-align: middle;\n",
       "    }\n",
       "\n",
       "    .dataframe tbody tr th {\n",
       "        vertical-align: top;\n",
       "    }\n",
       "\n",
       "    .dataframe thead th {\n",
       "        text-align: right;\n",
       "    }\n",
       "</style>\n",
       "<table border=\"1\" class=\"dataframe\">\n",
       "  <thead>\n",
       "    <tr style=\"text-align: right;\">\n",
       "      <th></th>\n",
       "      <th>ParticipantID</th>\n",
       "      <th>TripStartDateTime</th>\n",
       "      <th>TripStopDateTime</th>\n",
       "      <th>Odometer at trip start (km)</th>\n",
       "      <th>TripDistance (km)</th>\n",
       "      <th>Power Consumption (kWh)</th>\n",
       "      <th>TripDuration (h)</th>\n",
       "      <th>TripSpeed (km/h)</th>\n",
       "      <th>Power (kW)</th>\n",
       "    </tr>\n",
       "  </thead>\n",
       "  <tbody>\n",
       "    <tr>\n",
       "      <th>0</th>\n",
       "      <td>GC10</td>\n",
       "      <td>2013-10-25 10:57:01</td>\n",
       "      <td>2013-10-25 10:59:48</td>\n",
       "      <td>1211</td>\n",
       "      <td>1.100</td>\n",
       "      <td>0.193</td>\n",
       "      <td>0.046389</td>\n",
       "      <td>23.712575</td>\n",
       "      <td>4.160479</td>\n",
       "    </tr>\n",
       "    <tr>\n",
       "      <th>1</th>\n",
       "      <td>GC10</td>\n",
       "      <td>2013-11-06 12:44:46</td>\n",
       "      <td>2013-11-06 12:48:52</td>\n",
       "      <td>1242</td>\n",
       "      <td>1.177</td>\n",
       "      <td>0.366</td>\n",
       "      <td>0.068333</td>\n",
       "      <td>17.224390</td>\n",
       "      <td>5.356098</td>\n",
       "    </tr>\n",
       "    <tr>\n",
       "      <th>2</th>\n",
       "      <td>GC10</td>\n",
       "      <td>2013-11-07 10:55:10</td>\n",
       "      <td>2013-11-07 10:57:54</td>\n",
       "      <td>1245</td>\n",
       "      <td>1.471</td>\n",
       "      <td>0.380</td>\n",
       "      <td>0.045556</td>\n",
       "      <td>32.290244</td>\n",
       "      <td>8.341463</td>\n",
       "    </tr>\n",
       "  </tbody>\n",
       "</table>\n",
       "</div>"
      ],
      "text/plain": [
       "  ParticipantID   TripStartDateTime    TripStopDateTime  \\\n",
       "0          GC10 2013-10-25 10:57:01 2013-10-25 10:59:48   \n",
       "1          GC10 2013-11-06 12:44:46 2013-11-06 12:48:52   \n",
       "2          GC10 2013-11-07 10:55:10 2013-11-07 10:57:54   \n",
       "\n",
       "   Odometer at trip start (km)  TripDistance (km)  Power Consumption (kWh)  \\\n",
       "0                         1211              1.100                    0.193   \n",
       "1                         1242              1.177                    0.366   \n",
       "2                         1245              1.471                    0.380   \n",
       "\n",
       "   TripDuration (h)  TripSpeed (km/h)  Power (kW)  \n",
       "0          0.046389         23.712575    4.160479  \n",
       "1          0.068333         17.224390    5.356098  \n",
       "2          0.045556         32.290244    8.341463  "
      ]
     },
     "execution_count": 17,
     "metadata": {},
     "output_type": "execute_result"
    }
   ],
   "source": [
    "my_trip_ind = df_trip['ParticipantID'] == my_participant\n",
    "my_df_trip = df_trip.loc[my_trip_ind,:].sort_values(by=\"TripStartDateTime\")\n",
    "my_df_trip.head(3)  #['TripStartDateTime'][0].date()"
   ]
  },
  {
   "cell_type": "code",
   "execution_count": 44,
   "metadata": {},
   "outputs": [
    {
     "data": {
      "application/vnd.jupyter.widget-view+json": {
       "model_id": "ef2b3d9008de49898bdedb7ba1259cfc",
       "version_major": 2,
       "version_minor": 0
      },
      "text/plain": [
       "QgridWidget(grid_options={'fullWidthRows': True, 'syncColumnCellResize': True, 'forceFitColumns': True, 'defau…"
      ]
     },
     "metadata": {},
     "output_type": "display_data"
    }
   ],
   "source": [
    "qgrid.show_grid(my_df_trip[['TripStartDateTime', 'TripStopDateTime','TripDistance (km)','TripDuration (h)']])"
   ]
  },
  {
   "cell_type": "code",
   "execution_count": 18,
   "metadata": {},
   "outputs": [
    {
     "data": {
      "text/html": [
       "<div>\n",
       "<style scoped>\n",
       "    .dataframe tbody tr th:only-of-type {\n",
       "        vertical-align: middle;\n",
       "    }\n",
       "\n",
       "    .dataframe tbody tr th {\n",
       "        vertical-align: top;\n",
       "    }\n",
       "\n",
       "    .dataframe thead th {\n",
       "        text-align: right;\n",
       "    }\n",
       "</style>\n",
       "<table border=\"1\" class=\"dataframe\">\n",
       "  <thead>\n",
       "    <tr style=\"text-align: right;\">\n",
       "      <th></th>\n",
       "      <th>ParticipantID</th>\n",
       "      <th>BatteryChargeStartDate</th>\n",
       "      <th>BatteryChargeStopDate</th>\n",
       "      <th>Starting SoC (of 12)</th>\n",
       "      <th>Ending SoC (of 12)</th>\n",
       "      <th>BatteryChargeDuration (h)</th>\n",
       "    </tr>\n",
       "  </thead>\n",
       "  <tbody>\n",
       "    <tr>\n",
       "      <th>0</th>\n",
       "      <td>GC10</td>\n",
       "      <td>2014-02-16 16:05:00</td>\n",
       "      <td>2014-02-16 17:05:00</td>\n",
       "      <td>1</td>\n",
       "      <td>11</td>\n",
       "      <td>1.000000</td>\n",
       "    </tr>\n",
       "    <tr>\n",
       "      <th>1</th>\n",
       "      <td>GC10</td>\n",
       "      <td>2014-02-16 18:20:00</td>\n",
       "      <td>2014-02-16 19:00:00</td>\n",
       "      <td>2</td>\n",
       "      <td>11</td>\n",
       "      <td>0.666667</td>\n",
       "    </tr>\n",
       "    <tr>\n",
       "      <th>2</th>\n",
       "      <td>GC10</td>\n",
       "      <td>2014-02-17 08:10:00</td>\n",
       "      <td>2014-02-17 15:57:00</td>\n",
       "      <td>4</td>\n",
       "      <td>12</td>\n",
       "      <td>7.783333</td>\n",
       "    </tr>\n",
       "    <tr>\n",
       "      <th>3</th>\n",
       "      <td>GC10</td>\n",
       "      <td>2014-02-18 07:41:00</td>\n",
       "      <td>2014-02-18 09:52:00</td>\n",
       "      <td>5</td>\n",
       "      <td>8</td>\n",
       "      <td>2.183333</td>\n",
       "    </tr>\n",
       "    <tr>\n",
       "      <th>4</th>\n",
       "      <td>GC10</td>\n",
       "      <td>2014-02-18 15:36:00</td>\n",
       "      <td>2014-02-18 15:39:00</td>\n",
       "      <td>4</td>\n",
       "      <td>4</td>\n",
       "      <td>0.050000</td>\n",
       "    </tr>\n",
       "  </tbody>\n",
       "</table>\n",
       "</div>"
      ],
      "text/plain": [
       "  ParticipantID BatteryChargeStartDate BatteryChargeStopDate  \\\n",
       "0          GC10    2014-02-16 16:05:00   2014-02-16 17:05:00   \n",
       "1          GC10    2014-02-16 18:20:00   2014-02-16 19:00:00   \n",
       "2          GC10    2014-02-17 08:10:00   2014-02-17 15:57:00   \n",
       "3          GC10    2014-02-18 07:41:00   2014-02-18 09:52:00   \n",
       "4          GC10    2014-02-18 15:36:00   2014-02-18 15:39:00   \n",
       "\n",
       "   Starting SoC (of 12)  Ending SoC (of 12)  BatteryChargeDuration (h)  \n",
       "0                     1                  11                   1.000000  \n",
       "1                     2                  11                   0.666667  \n",
       "2                     4                  12                   7.783333  \n",
       "3                     5                   8                   2.183333  \n",
       "4                     4                   4                   0.050000  "
      ]
     },
     "execution_count": 18,
     "metadata": {},
     "output_type": "execute_result"
    }
   ],
   "source": [
    "my_charge_ind = df_charge['ParticipantID'] == my_participant\n",
    "my_df_charge = df_charge.loc[my_charge_ind,:].sort_values(by=\"BatteryChargeStartDate\")\n",
    "my_df_charge.head(5)"
   ]
  },
  {
   "cell_type": "code",
   "execution_count": 45,
   "metadata": {},
   "outputs": [
    {
     "data": {
      "application/vnd.jupyter.widget-view+json": {
       "model_id": "4e63645b63d24948b595d553f9f48755",
       "version_major": 2,
       "version_minor": 0
      },
      "text/plain": [
       "QgridWidget(grid_options={'fullWidthRows': True, 'syncColumnCellResize': True, 'forceFitColumns': True, 'defau…"
      ]
     },
     "metadata": {},
     "output_type": "display_data"
    }
   ],
   "source": [
    "qgrid.show_grid(my_df_charge[[\"BatteryChargeStartDate\",\"BatteryChargeStopDate\"]])"
   ]
  },
  {
   "cell_type": "code",
   "execution_count": 19,
   "metadata": {},
   "outputs": [],
   "source": [
    "if False: # check if trip start and stop alternate correctly:\n",
    "    my_df1 = pd.DataFrame(data= 1, index=my_df_trip['TripStartDateTime'].values, columns=['move'])\n",
    "    my_df2 = pd.DataFrame(data=-1, index=my_df_trip['TripStopDateTime'].values,  columns=['move'])\n",
    "    my_df = my_df1.append(my_df2).sort_index()\n",
    "\n",
    "    # my_df.cumsum().plot();\n",
    "    my_df.cumsum().loc['2014-01-27':'2014-01-30'].plot(marker='.', figsize=(10,4), grid=True)\n",
    "\n",
    "    my_df.loc['2014-01-28':'2014-01-28']"
   ]
  },
  {
   "cell_type": "code",
   "execution_count": 20,
   "metadata": {
    "jupyter": {
     "source_hidden": true
    }
   },
   "outputs": [],
   "source": [
    "if False: # check if charge start and stop alternate correctly:\n",
    "    my_df1 = pd.DataFrame(data= 1, index=my_df_charge['BatteryChargeStartDate'].values, columns=['move'])\n",
    "    my_df2 = pd.DataFrame(data=-1, index=my_df_charge['BatteryChargeStopDate'].values,  columns=['move'])\n",
    "    my_df = my_df1.append(my_df2).sort_index()\n",
    "\n",
    "    # my_df.cumsum().plot();\n",
    "    my_df.cumsum().loc['2014-06-01':'2014-06-07'].plot(marker='.', figsize=(10,4), grid=True)\n",
    "\n",
    "    my_df.loc['2014-06-04':'2014-06-07']"
   ]
  },
  {
   "cell_type": "code",
   "execution_count": 21,
   "metadata": {},
   "outputs": [
    {
     "data": {
      "text/html": [
       "<div>\n",
       "<style scoped>\n",
       "    .dataframe tbody tr th:only-of-type {\n",
       "        vertical-align: middle;\n",
       "    }\n",
       "\n",
       "    .dataframe tbody tr th {\n",
       "        vertical-align: top;\n",
       "    }\n",
       "\n",
       "    .dataframe thead th {\n",
       "        text-align: right;\n",
       "    }\n",
       "</style>\n",
       "<table border=\"1\" class=\"dataframe\">\n",
       "  <thead>\n",
       "    <tr style=\"text-align: right;\">\n",
       "      <th></th>\n",
       "      <th>Power (kW)</th>\n",
       "      <th>TripStart</th>\n",
       "      <th>TripID</th>\n",
       "      <th>TripStop</th>\n",
       "    </tr>\n",
       "  </thead>\n",
       "  <tbody>\n",
       "    <tr>\n",
       "      <th>2013-10-25 10:57:01</th>\n",
       "      <td>4.16048</td>\n",
       "      <td>True</td>\n",
       "      <td>0</td>\n",
       "      <td>False</td>\n",
       "    </tr>\n",
       "    <tr>\n",
       "      <th>2013-10-25 10:59:48</th>\n",
       "      <td>4.16048</td>\n",
       "      <td>False</td>\n",
       "      <td>0</td>\n",
       "      <td>True</td>\n",
       "    </tr>\n",
       "    <tr>\n",
       "      <th>2013-11-06 12:44:46</th>\n",
       "      <td>5.3561</td>\n",
       "      <td>True</td>\n",
       "      <td>1</td>\n",
       "      <td>False</td>\n",
       "    </tr>\n",
       "  </tbody>\n",
       "</table>\n",
       "</div>"
      ],
      "text/plain": [
       "                    Power (kW)  TripStart  TripID  TripStop\n",
       "2013-10-25 10:57:01    4.16048       True       0     False\n",
       "2013-10-25 10:59:48    4.16048      False       0      True\n",
       "2013-11-06 12:44:46     5.3561       True       1     False"
      ]
     },
     "execution_count": 21,
     "metadata": {},
     "output_type": "execute_result"
    }
   ],
   "source": [
    "# rearrange power and trip data:\n",
    "\n",
    "my_df_trip_time = pd.DataFrame(\n",
    "    data   =my_df_trip['Power (kW)'].values, \n",
    "    index  =my_df_trip['TripStartDateTime'].values,\n",
    "    columns=['Power (kW)'])\n",
    "my_df_trip_time['TripStart'] = True\n",
    "my_df_trip_time['TripID']    = np.arange(my_df_trip_time.shape[0])\n",
    "my_df_help = pd.DataFrame(\n",
    "    data   =my_df_trip['Power (kW)'].values, \n",
    "    index  =my_df_trip['TripStopDateTime'].values,\n",
    "    columns=['Power (kW)'])\n",
    "my_df_help['TripID']   = np.arange(my_df_trip_time.shape[0])\n",
    "my_df_help['TripStop'] = True\n",
    "\n",
    "my_df_trip_time = my_df_trip_time.append(\n",
    "    my_df_help).sort_index().fillna(False)\n",
    "\n",
    "my_df_trip_time.head(3)"
   ]
  },
  {
   "cell_type": "code",
   "execution_count": 39,
   "metadata": {},
   "outputs": [
    {
     "data": {
      "text/html": [
       "<div>\n",
       "<style scoped>\n",
       "    .dataframe tbody tr th:only-of-type {\n",
       "        vertical-align: middle;\n",
       "    }\n",
       "\n",
       "    .dataframe tbody tr th {\n",
       "        vertical-align: top;\n",
       "    }\n",
       "\n",
       "    .dataframe thead th {\n",
       "        text-align: right;\n",
       "    }\n",
       "</style>\n",
       "<table border=\"1\" class=\"dataframe\">\n",
       "  <thead>\n",
       "    <tr style=\"text-align: right;\">\n",
       "      <th></th>\n",
       "      <th>ChargeStart</th>\n",
       "      <th>ChargeStop</th>\n",
       "    </tr>\n",
       "  </thead>\n",
       "  <tbody>\n",
       "    <tr>\n",
       "      <th>2014-02-16 16:05:00</th>\n",
       "      <td>True</td>\n",
       "      <td>False</td>\n",
       "    </tr>\n",
       "    <tr>\n",
       "      <th>2014-02-16 17:05:00</th>\n",
       "      <td>False</td>\n",
       "      <td>True</td>\n",
       "    </tr>\n",
       "    <tr>\n",
       "      <th>2014-02-16 18:20:00</th>\n",
       "      <td>True</td>\n",
       "      <td>False</td>\n",
       "    </tr>\n",
       "  </tbody>\n",
       "</table>\n",
       "</div>"
      ],
      "text/plain": [
       "                     ChargeStart  ChargeStop\n",
       "2014-02-16 16:05:00         True       False\n",
       "2014-02-16 17:05:00        False        True\n",
       "2014-02-16 18:20:00         True       False"
      ]
     },
     "execution_count": 39,
     "metadata": {},
     "output_type": "execute_result"
    }
   ],
   "source": [
    "# rearrange charging data:\n",
    "\n",
    "my_df_charge_time = pd.DataFrame(\n",
    "    data   =True, \n",
    "    index  =my_df_charge['BatteryChargeStartDate'].values,\n",
    "    columns=['ChargeStart'])\n",
    "my_df_help = pd.DataFrame(\n",
    "    data   =True,\n",
    "    index  =my_df_charge['BatteryChargeStopDate'].values,\n",
    "    columns=['ChargeStop'])\n",
    "\n",
    "my_df_charge_time = my_df_charge_time.append(\n",
    "    my_df_help).sort_index().fillna(False)\n",
    "\n",
    "# my_df_charge_time['Charge'] = my_df_charge_time['ChargeStart'] | my_df_charge_time['ChargeStop']\n",
    "\n",
    "my_df_charge_time.head(3)"
   ]
  },
  {
   "cell_type": "code",
   "execution_count": 40,
   "metadata": {},
   "outputs": [
    {
     "name": "stdout",
     "output_type": "stream",
     "text": [
      "data time window:\n",
      "  first data period = 2013-10-25 11:00:00\n",
      "  last  data period = 2015-08-13 22:45:00\n",
      "individual time window selected:\n",
      "  first period = 2014-03-01\n",
      "  last  period = 2014-03-31\n"
     ]
    }
   ],
   "source": [
    "# create 15 minutes sampled data: periods start at the timestamps\n",
    "\n",
    "my_periods_data = my_df_trip['TripStartDateTime'].dt.round(\"15min\")\n",
    "\n",
    "my_periods_data_start = my_periods_data.iloc[0]\n",
    "my_n = len(my_periods_data)\n",
    "my_periods_data_stop  = my_periods_data.iloc[my_n - 1]\n",
    "print(\"data time window:\")\n",
    "print(f\"  first data period = {my_periods_data_start}\")\n",
    "print(f\"  last  data period = {my_periods_data_stop}\")\n",
    "\n",
    "if 1: # select individual time window\n",
    "    my_periods_start = '2014-03-01'\n",
    "    my_periods_stop  = '2014-03-31'\n",
    "    print(\"individual time window selected:\")\n",
    "    print(f\"  first period = {my_periods_start}\")\n",
    "    print(f\"  last  period = {my_periods_stop}\")\n",
    "else: # select maximal time window\n",
    "    my_periods_start = my_periods_data_start\n",
    "    my_periods_stop  = my_periods_data_stop\n",
    "    print(\"data time window selected.\")\n",
    "\n",
    "my_periods = pd.date_range(start=my_periods_start, end=my_periods_stop,freq='15min')\n",
    "my_df_resampled = pd.DataFrame(data=None, # NaN: float(\"nan\")\n",
    "                               index=my_periods, \n",
    "                               columns=['driving (boolean)', \n",
    "                                        'consumption (kWh)', \n",
    "                                        'loadable (boolean)'])\n",
    "my_df_resampled['consumption (kWh)'] = 0\n",
    "my_df_resampled['driving (boolean)'] = False\n",
    "my_df_resampled['loadable (boolean)'] = False"
   ]
  },
  {
   "cell_type": "code",
   "execution_count": 42,
   "metadata": {},
   "outputs": [
    {
     "name": "stdout",
     "output_type": "stream",
     "text": [
      "time used = 2.55 seconds = 0.04 minutes.\n"
     ]
    }
   ],
   "source": [
    "# fill my_df_resampled with driving and consumption data:\n",
    "# start timer:\n",
    "t0 = time.time()\n",
    "\n",
    "for my_period_start in my_periods: # [1700:1800]\n",
    "    my_period_end = my_period_start + pd.to_timedelta('15min')\n",
    "    my_ind = (my_period_start <= my_df_trip_time.index) & \\\n",
    "             (my_df_trip_time.index < my_period_end)\n",
    "    my_trip_period = my_df_trip_time.loc[my_ind,]\n",
    "    \n",
    "    if not my_trip_period.empty:\n",
    "        my_df_resampled.loc[my_period_start,'driving (boolean)'] = True\n",
    "        for trip_id in set(my_trip_period['TripID']):\n",
    "            my_trip_ind = my_trip_period['TripID']==trip_id\n",
    "            my_period_trip = my_trip_period.loc[my_trip_ind,]\n",
    "            my_power = my_period_trip['Power (kW)'][0]\n",
    "            if my_period_trip.shape[0] == 2:\n",
    "                my_duration = my_period_trip.index.to_series().diff()[1]/pd.Timedelta('1 hour')\n",
    "            elif my_period_trip['TripStop'].values[0]:\n",
    "                my_duration = (my_period_trip.index[0] - my_period_start)/pd.Timedelta('1 hour')\n",
    "            elif my_period_trip['TripStart'].values[0]:\n",
    "                my_duration = (my_period_end - my_period_trip.index[0])/pd.Timedelta('1 hour')\n",
    "            my_df_resampled.loc[my_period_start,'consumption (kWh)'] += my_power*my_duration\n",
    "    \n",
    "    my_ind = (my_period_start <= my_df_charge_time.index) & \\\n",
    "             (my_df_charge_time.index < my_period_end)\n",
    "    my_charge_period = my_df_charge_time.loc[my_ind,]\n",
    "    if not my_charge_period.empty:\n",
    "        my_df_resampled.loc[my_period_start,'loadable (boolean)'] = True\n",
    "    \n",
    "    if False: # only for debugging:\n",
    "        if not my_df_trip_time.loc[my_ind,].empty:\n",
    "            print(f\"{my_period_start=}\")\n",
    "            print(f\"{my_period_end  =}\")\n",
    "            print(my_df_time.loc[my_ind,])\n",
    "            print()\n",
    "\n",
    "# stop timer and print duration of computations:\n",
    "t1 = time.time()\n",
    "print(f\"time used = {t1 - t0:.2f} seconds = {(t1 - t0)/60:.2f} minutes.\")"
   ]
  },
  {
   "cell_type": "code",
   "execution_count": 43,
   "metadata": {},
   "outputs": [
    {
     "data": {
      "application/vnd.jupyter.widget-view+json": {
       "model_id": "044a331cb0064550b68b541b3e9a77d7",
       "version_major": 2,
       "version_minor": 0
      },
      "text/plain": [
       "QgridWidget(grid_options={'fullWidthRows': True, 'syncColumnCellResize': True, 'forceFitColumns': True, 'defau…"
      ]
     },
     "metadata": {},
     "output_type": "display_data"
    }
   ],
   "source": [
    "qgrid.show_grid(my_df_resampled)"
   ]
  },
  {
   "cell_type": "code",
   "execution_count": 32,
   "metadata": {},
   "outputs": [
    {
     "data": {
      "image/png": "[encoded data removed]",
      "text/plain": [
       "<Figure size 432x288 with 1 Axes>"
      ]
     },
     "metadata": {
      "needs_background": "light"
     },
     "output_type": "display_data"
    }
   ],
   "source": [
    "my_col = 'consumption (kWh)'\n",
    "my_df_resampled[my_col].plot(title=my_col);"
   ]
  },
  {
   "cell_type": "code",
   "execution_count": 162,
   "metadata": {
    "collapsed": true,
    "jupyter": {
     "outputs_hidden": true,
     "source_hidden": true
    }
   },
   "outputs": [
    {
     "data": {
      "image/png": "[encoded data removed]",
      "text/plain": [
       "<Figure size 432x288 with 1 Axes>"
      ]
     },
     "metadata": {
      "needs_background": "light"
     },
     "output_type": "display_data"
    }
   ],
   "source": [
    "my_col = 'driving (boolean)'\n",
    "my_df_resampled[my_col].astype(float).plot(title=my_col);"
   ]
  },
  {
   "cell_type": "code",
   "execution_count": 173,
   "metadata": {
    "collapsed": true,
    "jupyter": {
     "outputs_hidden": true,
     "source_hidden": true
    }
   },
   "outputs": [
    {
     "data": {
      "image/png": "[encoded data removed]",
      "text/plain": [
       "<Figure size 432x288 with 1 Axes>"
      ]
     },
     "metadata": {
      "needs_background": "light"
     },
     "output_type": "display_data"
    }
   ],
   "source": [
    "my_cols = ['consumption (kWh)','driving (boolean)']\n",
    "plt.scatter(x=my_cols[0], y=my_cols[1], data=my_df_resampled.astype(float))\n",
    "plt.xlabel(my_cols[0])\n",
    "plt.ylabel(my_cols[1])\n",
    "# plt.xlim(-0.1, 0.1)\n",
    "plt.grid(True)"
   ]
  },
  {
   "cell_type": "code",
   "execution_count": 33,
   "metadata": {},
   "outputs": [],
   "source": [
    "# add connected/loadable data:\n",
    "\n"
   ]
  },
  {
   "cell_type": "code",
   "execution_count": null,
   "metadata": {},
   "outputs": [],
   "source": []
  },
  {
   "cell_type": "code",
   "execution_count": null,
   "metadata": {},
   "outputs": [],
   "source": []
  },
  {
   "cell_type": "markdown",
   "metadata": {},
   "source": [
    "# Export of Processed Data"
   ]
  },
  {
   "cell_type": "code",
   "execution_count": null,
   "metadata": {},
   "outputs": [],
   "source": []
  },
  {
   "cell_type": "markdown",
   "metadata": {},
   "source": [
    "# Some Analyses"
   ]
  },
  {
   "cell_type": "code",
   "execution_count": null,
   "metadata": {},
   "outputs": [],
   "source": []
  }
 ],
 "metadata": {
  "kernelspec": {
   "display_name": "Python 3",
   "language": "python",
   "name": "python3"
  },
  "language_info": {
   "codemirror_mode": {
    "name": "ipython",
    "version": 3
   },
   "file_extension": ".py",
   "mimetype": "text/x-python",
   "name": "python",
   "nbconvert_exporter": "python",
   "pygments_lexer": "ipython3",
   "version": "3.8.6"
  },
  "toc-autonumbering": true
 },
 "nbformat": 4,
 "nbformat_minor": 4
}
