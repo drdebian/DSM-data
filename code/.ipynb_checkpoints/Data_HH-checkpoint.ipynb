{
 "cells": [
  {
   "cell_type": "markdown",
   "metadata": {},
   "source": [
    "# Python Configuration"
   ]
  },
  {
   "cell_type": "code",
   "execution_count": 1,
   "metadata": {},
   "outputs": [
    {
     "name": "stdout",
     "output_type": "stream",
     "text": [
      "python version = 3.8.6\n"
     ]
    }
   ],
   "source": [
    "# python version:\n",
    "from platform import python_version\n",
    "print(f\"python version = {python_version()}\")\n",
    "\n",
    "# We used the following version:\n",
    "# python version = 3.8.6"
   ]
  },
  {
   "cell_type": "code",
   "execution_count": 2,
   "metadata": {},
   "outputs": [],
   "source": [
    "# python standard library packages:\n",
    "import importlib\n",
    "import pickle\n",
    "\n",
    "# import more packages:\n",
    "import numpy as np\n",
    "import pandas as pd\n",
    "import matplotlib\n",
    "import matplotlib.pyplot as plt\n",
    "\n",
    "# import own package:\n",
    "import functions as my\n",
    "\n",
    "# the following package is only needed to view data interactively,\n",
    "# otherwise you can comment the import out:\n",
    "import qgrid  # https://github.com/quantopian/qgrid"
   ]
  },
  {
   "cell_type": "code",
   "execution_count": 3,
   "metadata": {},
   "outputs": [
    {
     "name": "stdout",
     "output_type": "stream",
     "text": [
      "numpy      version = 1.19.2\n",
      "pandas     version = 1.1.3\n",
      "matplotlib version = 3.3.2\n",
      "qgrid      version = 1.3.1\n"
     ]
    }
   ],
   "source": [
    "# package versions:\n",
    "print(f\"numpy      version = {np.__version__}\")\n",
    "print(f\"pandas     version = {pd.__version__}\")\n",
    "print(f\"matplotlib version = {matplotlib.__version__}\")\n",
    "\n",
    "# the following package is only needed to view data interactively,\n",
    "# otherwise you can comment this out:\n",
    "print(f\"qgrid      version = {qgrid.__version__}\")\n",
    "\n",
    "# We used the following versions:\n",
    "# numpy      version = 1.19.2\n",
    "# pandas     version = 1.1.3\n",
    "# matplotlib version = 3.3.2\n",
    "# qgrid      version = 1.3.1"
   ]
  },
  {
   "cell_type": "markdown",
   "metadata": {},
   "source": [
    "# Raw Data Source"
   ]
  },
  {
   "cell_type": "markdown",
   "metadata": {},
   "source": [
    "- **Source:** [ISSDA Project Homepage](https://www.ucd.ie/issda/data/commissionforenergyregulationcer/)\n",
    "- **To access the data:** complete the [ISSDA Data Request Form for Research Purposes](https://www.ucd.ie/issda/t4media/ISSDA_Application_Research_V5.docx), sign it, and send it to ISSDA by [email](mailto:issda@ucd.ie). Data will be disseminated on receipt of a fully completed, signed form. \n",
    "- **legal notice** from project homepage: \"The detailed data underlying the electricity customer behaviour trial results is now being made available in anonymised format in order to facilitate further research [...]\""
   ]
  },
  {
   "cell_type": "markdown",
   "metadata": {},
   "source": [
    "*Data includes the energy consumed in each half-hour interval from the smart-meters of 4225 residential users for the period July 2009 to Dec 2010.*\n",
    "\n",
    "From `CER_Electricity_Documentation/Manifest - Smart Meter Electricity Trial Data v1.0.1.docx`:\n",
    "\n",
    "Smart meter read data: 6 zipped files named File1.txt.zip to File6.txt.zip each containing 1 text file. Format of each data file: 3 columns corresponding to\n",
    "\n",
    "- Meter ID\n",
    "- Five digit code:\n",
    "    + Day code: digits 1-3 (day 1 = 1st January 2009)\n",
    "    + Time code: digits 4-5 (1-48 for each 30 minutes with 1= 00:00:00 – 00:29:59)\n",
    "- Electricity consumed during **30 minute interval** (in kWh)"
   ]
  },
  {
   "cell_type": "markdown",
   "metadata": {},
   "source": [
    "# Loading Raw Data"
   ]
  },
  {
   "cell_type": "code",
   "execution_count": 4,
   "metadata": {},
   "outputs": [],
   "source": [
    "# set your path to the download directory:\n",
    "my_path_data = \"../data/hh/raw/\"\n",
    "my_files = [f\"File{k}.txt\" for k in range(1,7)]"
   ]
  },
  {
   "cell_type": "markdown",
   "metadata": {},
   "source": [
    "## Residential Participants\n",
    "\n",
    "Code:\n",
    "\n",
    "- 1 ... Residential\n",
    "- 2 ... SME\n",
    "- 3 ... Other"
   ]
  },
  {
   "cell_type": "code",
   "execution_count": 5,
   "metadata": {},
   "outputs": [],
   "source": [
    "my_path_doc = \"../data/hh/raw/CER_Electricity_Documentation/\"\n",
    "my_file_doc = \"SME and Residential allocations.xlsx\"\n",
    "\n",
    "my_df = pd.read_excel(my_path_doc + my_file_doc, index_col='ID', usecols=[0,1])\n",
    "my_ind = my_df['Code'] == 1\n",
    "my_residential_IDs = my_df['Code'][my_ind].index.values # np-array"
   ]
  },
  {
   "cell_type": "markdown",
   "metadata": {},
   "source": [
    "# Processing of Raw Data"
   ]
  },
  {
   "cell_type": "markdown",
   "metadata": {},
   "source": [
    "## Create Resampled Residential Demand Data"
   ]
  },
  {
   "cell_type": "markdown",
   "metadata": {},
   "source": [
    "### Example"
   ]
  },
  {
   "cell_type": "markdown",
   "metadata": {},
   "source": [
    "**SELECT raw file:**"
   ]
  },
  {
   "cell_type": "code",
   "execution_count": 6,
   "metadata": {},
   "outputs": [],
   "source": [
    "my_file_number = 1   # 1 - 6 corresponding to File1.txt - File6.txt"
   ]
  },
  {
   "cell_type": "code",
   "execution_count": 7,
   "metadata": {},
   "outputs": [],
   "source": [
    "# load raw data:\n",
    "my_file = f\"File{my_file_number}.txt\"\n",
    "my_df_all = pd.read_csv(my_path_data + my_file, \n",
    "                        sep=\" \", header=None,\n",
    "#                       nrows=1000, # later None or commented\n",
    "                        names=[\"Meter_ID\", \"Datetime_Code\", \"Energy_kWh\"],\n",
    "                        dtype={\"Meter_ID\":np.int, \n",
    "                               \"Datetime_Code\": np.str,\n",
    "                               \"Energy_kWh\": np.float}\n",
    "                        )"
   ]
  },
  {
   "cell_type": "code",
   "execution_count": 8,
   "metadata": {},
   "outputs": [],
   "source": [
    "# uncomment the following to get the output:\n",
    "# my_df_all.head()"
   ]
  },
  {
   "cell_type": "markdown",
   "metadata": {},
   "source": [
    "**SELECT residential:**"
   ]
  },
  {
   "cell_type": "code",
   "execution_count": 9,
   "metadata": {},
   "outputs": [],
   "source": [
    "my_residential_ID = 1002\n",
    "\n",
    "my_ind = my_df_all['Meter_ID'] == my_residential_ID\n",
    "my_df = my_df_all.loc[my_ind,].copy()\n",
    "\n",
    "# my_df.head(3)"
   ]
  },
  {
   "cell_type": "code",
   "execution_count": 10,
   "metadata": {},
   "outputs": [],
   "source": [
    "# create timestamps: periods lasting half an hour start at the timestamps.\n",
    "\n",
    "importlib.reload(my);\n",
    "my_df['period_start'] = my_df['Datetime_Code'].apply(\n",
    "    my.hh_create_timestamp)\n",
    "my_df.index = my_df['period_start']\n",
    "my_df.drop('period_start', axis=1, inplace=True)"
   ]
  },
  {
   "cell_type": "code",
   "execution_count": 11,
   "metadata": {},
   "outputs": [],
   "source": [
    "# check for duplicate Datetime_Code values:\n",
    "my_N1 = my_df['Datetime_Code'].shape[0]\n",
    "my_N2 = np.unique(my_df['Datetime_Code'].values).shape[0]\n",
    "if my_N1 > my_N2:\n",
    "    print(f\"Found {my_N1 - my_N2} duplicate datetime codes.\")"
   ]
  },
  {
   "cell_type": "code",
   "execution_count": 12,
   "metadata": {},
   "outputs": [],
   "source": [
    "# drop Time_Code > 48 rows:\n",
    "my_df['Time_Code'] = my_df['Datetime_Code'].apply(lambda x: int(x[3:]))\n",
    "my_ind = my_df['Time_Code'] < 48\n",
    "my_df = my_df.loc[my_ind,]"
   ]
  },
  {
   "cell_type": "code",
   "execution_count": 13,
   "metadata": {},
   "outputs": [],
   "source": [
    "# drop uneeded columns:\n",
    "my_df.drop(['Datetime_Code', 'Time_Code' ,'Meter_ID'], \n",
    "           axis=1, inplace=True)"
   ]
  },
  {
   "cell_type": "code",
   "execution_count": 14,
   "metadata": {},
   "outputs": [
    {
     "data": {
      "text/html": [
       "<div>\n",
       "<style scoped>\n",
       "    .dataframe tbody tr th:only-of-type {\n",
       "        vertical-align: middle;\n",
       "    }\n",
       "\n",
       "    .dataframe tbody tr th {\n",
       "        vertical-align: top;\n",
       "    }\n",
       "\n",
       "    .dataframe thead th {\n",
       "        text-align: right;\n",
       "    }\n",
       "</style>\n",
       "<table border=\"1\" class=\"dataframe\">\n",
       "  <thead>\n",
       "    <tr style=\"text-align: right;\">\n",
       "      <th></th>\n",
       "      <th>Energy_kWh</th>\n",
       "    </tr>\n",
       "    <tr>\n",
       "      <th>period_start</th>\n",
       "      <th></th>\n",
       "    </tr>\n",
       "  </thead>\n",
       "  <tbody>\n",
       "    <tr>\n",
       "      <th>2009-07-14 00:00:00</th>\n",
       "      <td>0.362</td>\n",
       "    </tr>\n",
       "    <tr>\n",
       "      <th>2009-07-14 00:30:00</th>\n",
       "      <td>0.064</td>\n",
       "    </tr>\n",
       "    <tr>\n",
       "      <th>2009-07-14 01:00:00</th>\n",
       "      <td>0.119</td>\n",
       "    </tr>\n",
       "  </tbody>\n",
       "</table>\n",
       "</div>"
      ],
      "text/plain": [
       "                     Energy_kWh\n",
       "period_start                   \n",
       "2009-07-14 00:00:00       0.362\n",
       "2009-07-14 00:30:00       0.064\n",
       "2009-07-14 01:00:00       0.119"
      ]
     },
     "execution_count": 14,
     "metadata": {},
     "output_type": "execute_result"
    }
   ],
   "source": [
    "my_df.sort_index(inplace=True)\n",
    "my_df.head(3)"
   ]
  },
  {
   "cell_type": "code",
   "execution_count": 15,
   "metadata": {},
   "outputs": [
    {
     "data": {
      "text/html": [
       "<div>\n",
       "<style scoped>\n",
       "    .dataframe tbody tr th:only-of-type {\n",
       "        vertical-align: middle;\n",
       "    }\n",
       "\n",
       "    .dataframe tbody tr th {\n",
       "        vertical-align: top;\n",
       "    }\n",
       "\n",
       "    .dataframe thead th {\n",
       "        text-align: right;\n",
       "    }\n",
       "</style>\n",
       "<table border=\"1\" class=\"dataframe\">\n",
       "  <thead>\n",
       "    <tr style=\"text-align: right;\">\n",
       "      <th></th>\n",
       "      <th>Energy_kWh</th>\n",
       "    </tr>\n",
       "    <tr>\n",
       "      <th>period_start</th>\n",
       "      <th></th>\n",
       "    </tr>\n",
       "  </thead>\n",
       "  <tbody>\n",
       "    <tr>\n",
       "      <th>2010-12-31 22:00:00</th>\n",
       "      <td>0.116</td>\n",
       "    </tr>\n",
       "    <tr>\n",
       "      <th>2010-12-31 22:30:00</th>\n",
       "      <td>0.147</td>\n",
       "    </tr>\n",
       "    <tr>\n",
       "      <th>2010-12-31 23:00:00</th>\n",
       "      <td>0.258</td>\n",
       "    </tr>\n",
       "  </tbody>\n",
       "</table>\n",
       "</div>"
      ],
      "text/plain": [
       "                     Energy_kWh\n",
       "period_start                   \n",
       "2010-12-31 22:00:00       0.116\n",
       "2010-12-31 22:30:00       0.147\n",
       "2010-12-31 23:00:00       0.258"
      ]
     },
     "execution_count": 15,
     "metadata": {},
     "output_type": "execute_result"
    }
   ],
   "source": [
    "my_df.tail(3)"
   ]
  },
  {
   "cell_type": "code",
   "execution_count": 16,
   "metadata": {},
   "outputs": [],
   "source": [
    "# Find possibly remaining duplicates:\n",
    "\n",
    "my_ind = my_df.index.duplicated()\n",
    "my_number_of_duplicates = my_df.loc[my_df.index[my_ind],].shape[0]\n",
    "if my_number_of_duplicates > 0:\n",
    "    print(f\"Found {np.sum(my_number_of_duplicates)} duplicate timestamps!\")\n",
    "    # my_df.loc[my_df.index[my_ind],]\n",
    "    \n",
    "# my_df[my_df.index.duplicated()]"
   ]
  },
  {
   "cell_type": "code",
   "execution_count": 17,
   "metadata": {},
   "outputs": [],
   "source": [
    "# uncomment the following to get the output:\n",
    "# qgrid.show_grid(my_df)"
   ]
  },
  {
   "cell_type": "code",
   "execution_count": 18,
   "metadata": {},
   "outputs": [],
   "source": [
    "# uncomment the following to get the output:\n",
    "# my_df[\"Energy_kWh\"].plot(grid=True, marker='.');"
   ]
  },
  {
   "cell_type": "code",
   "execution_count": 19,
   "metadata": {},
   "outputs": [],
   "source": [
    "# uncomment the following to get the output:\n",
    "# my_df.head()"
   ]
  },
  {
   "cell_type": "code",
   "execution_count": 20,
   "metadata": {},
   "outputs": [
    {
     "data": {
      "text/plain": [
       "period_start\n",
       "2009-07-14 00:00:00    0.362\n",
       "2009-07-14 00:15:00      NaN\n",
       "2009-07-14 00:30:00    0.064\n",
       "2009-07-14 00:45:00      NaN\n",
       "2009-07-14 01:00:00    0.119\n",
       "                       ...  \n",
       "2010-12-31 22:00:00    0.116\n",
       "2010-12-31 22:15:00      NaN\n",
       "2010-12-31 22:30:00    0.147\n",
       "2010-12-31 22:45:00      NaN\n",
       "2010-12-31 23:00:00    0.258\n",
       "Freq: 15T, Name: Energy_kWh, Length: 51453, dtype: float64"
      ]
     },
     "execution_count": 20,
     "metadata": {},
     "output_type": "execute_result"
    }
   ],
   "source": [
    "# Resample to 15 minutes:\n",
    "\n",
    "my_df_resampled = my_df['Energy_kWh'].resample('15min').asfreq()\n",
    "my_df_resampled"
   ]
  },
  {
   "cell_type": "code",
   "execution_count": 21,
   "metadata": {},
   "outputs": [],
   "source": [
    "my_df_resampled = my_df_resampled.interpolate('linear')\n",
    "my_df_resampled = my_df_resampled/my_df_resampled.sum()*my_df['Energy_kWh'].sum()"
   ]
  },
  {
   "cell_type": "code",
   "execution_count": 22,
   "metadata": {},
   "outputs": [
    {
     "data": {
      "text/plain": [
       "period_start\n",
       "2009-07-14 00:00:00    0.176244\n",
       "2009-07-14 00:15:00    0.103702\n",
       "2009-07-14 00:30:00    0.031159\n",
       "2009-07-14 00:45:00    0.044548\n",
       "2009-07-14 01:00:00    0.057937\n",
       "                         ...   \n",
       "2010-12-31 22:00:00    0.056476\n",
       "2010-12-31 22:15:00    0.064022\n",
       "2010-12-31 22:30:00    0.071569\n",
       "2010-12-31 22:45:00    0.098589\n",
       "2010-12-31 23:00:00    0.125610\n",
       "Freq: 15T, Name: Energy_kWh, Length: 51453, dtype: float64"
      ]
     },
     "execution_count": 22,
     "metadata": {},
     "output_type": "execute_result"
    }
   ],
   "source": [
    "my_df_resampled"
   ]
  },
  {
   "cell_type": "code",
   "execution_count": 23,
   "metadata": {},
   "outputs": [],
   "source": [
    "# change to kW units:\n",
    "my_df_resampled = my_df_resampled*4\n",
    "my_df_resampled.name = \"HH_kW\"\n",
    "\n",
    "# make DataFrame:\n",
    "my_df_resampled = my_df_resampled.to_frame()\n",
    "\n",
    "# remove index name:\n",
    "my_df_resampled.index.name = \"\""
   ]
  },
  {
   "cell_type": "code",
   "execution_count": 24,
   "metadata": {},
   "outputs": [
    {
     "name": "stdout",
     "output_type": "stream",
     "text": [
      "- check for rows with a NaN value: OK\n",
      "- check for duplicate timestamps : OK\n",
      "INFO: no check for set of timestamps performed.\n"
     ]
    }
   ],
   "source": [
    "# importlib.reload(my);\n",
    "my.checks(my_df_resampled, my_year='')"
   ]
  },
  {
   "cell_type": "code",
   "execution_count": 25,
   "metadata": {},
   "outputs": [
    {
     "data": {
      "image/png": "[encoded data removed]",
      "text/plain": [
       "<Figure size 576x360 with 1 Axes>"
      ]
     },
     "metadata": {
      "needs_background": "light"
     },
     "output_type": "display_data"
    }
   ],
   "source": [
    "my_df_resampled['2009-09-01':'2009-09-03'].plot(\n",
    "    grid=True, figsize=(8,5), marker='.')\n",
    "plt.ylabel(\"kWh\");"
   ]
  },
  {
   "cell_type": "markdown",
   "metadata": {},
   "source": [
    "### Batch Creation of Data Files"
   ]
  },
  {
   "cell_type": "markdown",
   "metadata": {},
   "source": [
    "**SELECT raw file:**"
   ]
  },
  {
   "cell_type": "code",
   "execution_count": 26,
   "metadata": {},
   "outputs": [],
   "source": [
    "my_file_number = 1   # 1 - 6 corresponding to File1.txt - File6.txt"
   ]
  },
  {
   "cell_type": "code",
   "execution_count": 27,
   "metadata": {},
   "outputs": [],
   "source": [
    "# load raw data:\n",
    "my_file = f\"File{my_file_number}.txt\"\n",
    "\n",
    "my_df_all = pd.read_csv(my_path_data + my_file, \n",
    "                        sep=\" \", header=None,\n",
    "#                       nrows=1000, # later None or commented\n",
    "                        names=[\"Meter_ID\", \"Datetime_Code\", \"Energy_kWh\"],\n",
    "                        dtype={\"Meter_ID\":np.int, \n",
    "                               \"Datetime_Code\": np.str,\n",
    "                               \"Energy_kWh\": np.float}\n",
    "                        )"
   ]
  },
  {
   "cell_type": "code",
   "execution_count": 28,
   "metadata": {},
   "outputs": [],
   "source": [
    "my_file_IDs = np.unique(my_df_all['Meter_ID'].values)\n",
    "my_file_residential_IDs = np.intersect1d(\n",
    "    my_file_IDs, my_residential_IDs, assume_unique=True)\n",
    "my_N_file_residentials = len(my_file_residential_IDs)"
   ]
  },
  {
   "cell_type": "markdown",
   "metadata": {},
   "source": [
    "**SELECT number of residentials:**"
   ]
  },
  {
   "cell_type": "code",
   "execution_count": 29,
   "metadata": {},
   "outputs": [],
   "source": [
    "my_N_participants = 20 # number of residentials\n",
    "\n",
    "if my_N_participants > my_N_file_residentials:\n",
    "    my_N_participants = min(my_N_file_residentials, \n",
    "                            my_N_participants)\n",
    "    print(f\"reduced number of residentials to {my_N_participants}.\")"
   ]
  },
  {
   "cell_type": "code",
   "execution_count": 30,
   "metadata": {},
   "outputs": [
    {
     "name": "stdout",
     "output_type": "stream",
     "text": [
      "Working on residential ID 1002 ... finished.\n",
      "Working on residential ID 1003 ... finished.\n",
      "Working on residential ID 1004 ... finished.\n",
      "Working on residential ID 1005 ... finished.\n",
      "Working on residential ID 1006 ... finished.\n",
      "Working on residential ID 1008 ... finished.\n",
      "Working on residential ID 1009 ... finished.\n",
      "Working on residential ID 1013 ... finished.\n",
      "Working on residential ID 1014 ... finished.\n",
      "Working on residential ID 1015 ... finished.\n",
      "Working on residential ID 1016 ... finished.\n",
      "Working on residential ID 1018 ... finished.\n",
      "Working on residential ID 1020 ... finished.\n",
      "Working on residential ID 1022 ... finished.\n",
      "Working on residential ID 1024 ... finished.\n",
      "Working on residential ID 1025 ... finished.\n",
      "Working on residential ID 1027 ... finished.\n",
      "Working on residential ID 1030 ... finished.\n",
      "Working on residential ID 1033 ... finished.\n",
      "Working on residential ID 1034 ... finished.\n",
      "writing selected residential IDs to a pickle file ... finished.\n",
      "Finished all.\n"
     ]
    }
   ],
   "source": [
    "for k in range(my_N_participants):\n",
    "    my_residential_ID = my_file_residential_IDs[k]\n",
    "    print(f\"Working on residential ID {my_residential_ID} ... \", end=\"\")\n",
    "    my_ind = my_df_all['Meter_ID'] == my_residential_ID\n",
    "    my_df = my_df_all.loc[my_ind,].copy()\n",
    "    \n",
    "    my_df['period_start'] = my_df['Datetime_Code'].apply(my.hh_create_timestamp)\n",
    "    my_df.index = my_df['period_start']\n",
    "    my_df.drop('period_start', axis=1, inplace=True)\n",
    "    \n",
    "    # check for duplicate Datetime_Code values:\n",
    "    my_N1 = my_df['Datetime_Code'].shape[0]\n",
    "    my_N2 = np.unique(my_df['Datetime_Code'].values).shape[0]\n",
    "    if my_N1 > my_N2:\n",
    "        print(f\"Found {my_N1 - my_N2} duplicate datetime codes.\")\n",
    "        \n",
    "    # drop Time_Code > 48 rows:\n",
    "    my_df['Time_Code'] = my_df['Datetime_Code'].apply(lambda x: int(x[3:]))\n",
    "    my_ind = my_df['Time_Code'] < 48\n",
    "    my_df = my_df.loc[my_ind,]\n",
    "    \n",
    "    # drop unneeded columns:\n",
    "    my_df.drop(['Datetime_Code', 'Time_Code' ,'Meter_ID'], \n",
    "               axis=1, inplace=True)\n",
    "    \n",
    "    # Find possibly remaining duplicates:\n",
    "    my_ind = my_df.index.duplicated()\n",
    "    my_number_of_duplicates = my_df.loc[my_df.index[my_ind],].shape[0]\n",
    "    if my_number_of_duplicates > 0:\n",
    "        print(f\"Found {np.sum(my_number_of_duplicates)} duplicate timestamps!\")\n",
    "    \n",
    "    # Resample to 15 minutes:\n",
    "    my_df_resampled = my_df['Energy_kWh'].resample('15min').asfreq()\n",
    "    my_df_resampled = my_df_resampled.interpolate('linear')\n",
    "    my_df_resampled = my_df_resampled/my_df_resampled.sum()*my_df['Energy_kWh'].sum()\n",
    "    \n",
    "    # change to kW units:\n",
    "    my_df_resampled = my_df_resampled*4\n",
    "    my_df_resampled.name = \"HH_kW\"\n",
    "\n",
    "    # make DataFrame:\n",
    "    my_df_resampled = my_df_resampled.to_frame()\n",
    "\n",
    "    # remove index name:\n",
    "    my_df_resampled.index.name = \"\"\n",
    "    \n",
    "    # export to pickle:\n",
    "    my_df_resampled.to_pickle(\n",
    "        f\"../data/hh/processed/hh_df_{my_residential_ID}.pickle\")\n",
    "    if 0: # export to csv:\n",
    "        my_df_resampled.to_csv(\n",
    "            f\"../data/hh/processed/hh_df_{my_residential_ID}.csv\")\n",
    "    \n",
    "    print(\"finished.\")\n",
    "    \n",
    "# write selected residential IDs to a pickle file:\n",
    "print(f\"writing selected residential IDs to a pickle file ... \", end=\"\")\n",
    "with open(f\"../data/hh/processed/residential_IDs_file{my_file_number}.pickle\", 'wb') as fp:\n",
    "    pickle.dump(my_file_residential_IDs[:my_N_participants], fp)\n",
    "print(\"finished.\")\n",
    "    \n",
    "print(\"Finished all.\")"
   ]
  },
  {
   "cell_type": "code",
   "execution_count": null,
   "metadata": {},
   "outputs": [],
   "source": []
  }
 ],
 "metadata": {
  "kernelspec": {
   "display_name": "Python 3",
   "language": "python",
   "name": "python3"
  },
  "language_info": {
   "codemirror_mode": {
    "name": "ipython",
    "version": 3
   },
   "file_extension": ".py",
   "mimetype": "text/x-python",
   "name": "python",
   "nbconvert_exporter": "python",
   "pygments_lexer": "ipython3",
   "version": "3.8.6"
  },
  "toc-autonumbering": true
 },
 "nbformat": 4,
 "nbformat_minor": 4
}
