{
 "cells": [
  {
   "cell_type": "markdown",
   "metadata": {},
   "source": [
    "# Python Configuration"
   ]
  },
  {
   "cell_type": "code",
   "execution_count": 9,
   "metadata": {},
   "outputs": [
    {
     "name": "stdout",
     "output_type": "stream",
     "text": [
      "python version = 3.8.6\n"
     ]
    }
   ],
   "source": [
    "# python version:\n",
    "from platform import python_version\n",
    "print(f\"python version = {python_version()}\")\n",
    "\n",
    "# We used the following version:\n",
    "# python version = 3.8.6"
   ]
  },
  {
   "cell_type": "code",
   "execution_count": 10,
   "metadata": {},
   "outputs": [],
   "source": [
    "# python standard library packages:\n",
    "import importlib\n",
    "import pickle\n",
    "\n",
    "# import more packages:\n",
    "import numpy as np\n",
    "import pandas as pd\n",
    "import matplotlib\n",
    "import matplotlib.pyplot as plt\n",
    "\n",
    "# import own package:\n",
    "import functions as my\n",
    "\n",
    "# the following package is only needed to view data interactively,\n",
    "# otherwise you can comment the import out:\n",
    "import qgrid  # https://github.com/quantopian/qgrid"
   ]
  },
  {
   "cell_type": "code",
   "execution_count": 11,
   "metadata": {},
   "outputs": [
    {
     "name": "stdout",
     "output_type": "stream",
     "text": [
      "numpy      version = 1.19.2\n",
      "pandas     version = 1.1.3\n",
      "matplotlib version = 3.3.2\n",
      "qgrid      version = 1.3.1\n"
     ]
    }
   ],
   "source": [
    "# package versions:\n",
    "print(f\"numpy      version = {np.__version__}\")\n",
    "print(f\"pandas     version = {pd.__version__}\")\n",
    "print(f\"matplotlib version = {matplotlib.__version__}\")\n",
    "\n",
    "# the following package is only needed to view data interactively,\n",
    "# otherwise you can comment this out:\n",
    "print(f\"qgrid      version = {qgrid.__version__}\")\n",
    "\n",
    "# We used the following versions:\n",
    "# numpy      version = 1.19.2\n",
    "# pandas     version = 1.1.3\n",
    "# matplotlib version = 3.3.2\n",
    "# qgrid      version = 1.3.1"
   ]
  },
  {
   "cell_type": "markdown",
   "metadata": {},
   "source": [
    "# Synced and Match Data"
   ]
  },
  {
   "cell_type": "markdown",
   "metadata": {},
   "source": [
    "- Synced: RG, DA, PV to common time frame of the year 2016\n",
    "- Match: \n",
    "    + EV: May 2013 - Nov 2015: match to 2016\n",
    "    + HH: Jul 2009 - Dec 2010: match to 2016\n",
    "    \n",
    "time changes in 2016: [link](https://www.schulferien.org/deutschland/zeit/zeitumstellung/2016/)\n",
    "\n",
    "- 27. March:   02:00 -> 03:00\n",
    "- 30. October: 02:00 <- 03:00"
   ]
  },
  {
   "cell_type": "code",
   "execution_count": 12,
   "metadata": {},
   "outputs": [
    {
     "data": {
      "text/plain": [
       "4"
      ]
     },
     "execution_count": 12,
     "metadata": {},
     "output_type": "execute_result"
    }
   ],
   "source": [
    "# first day in 2016 was a Friday (coded as 4 in pandas):\n",
    "pd.Timestamp(\"2016-01-01\").weekday()"
   ]
  },
  {
   "cell_type": "markdown",
   "metadata": {},
   "source": [
    "## Synced Data"
   ]
  },
  {
   "cell_type": "markdown",
   "metadata": {},
   "source": [
    "### Aggregate"
   ]
  },
  {
   "cell_type": "code",
   "execution_count": 13,
   "metadata": {},
   "outputs": [],
   "source": [
    "my_pv_df = pd.read_pickle('../data/pv/processed/pv_df.pickle')\n",
    "# my_pv_df"
   ]
  },
  {
   "cell_type": "code",
   "execution_count": 14,
   "metadata": {},
   "outputs": [],
   "source": [
    "my_rg_df = pd.read_pickle('../data/rg/processed/rg_df.pickle')\n",
    "# my_rg_df"
   ]
  },
  {
   "cell_type": "code",
   "execution_count": 15,
   "metadata": {},
   "outputs": [],
   "source": [
    "my_da_df = pd.read_pickle('../data/da/processed/da_df.pickle')\n",
    "# my_da_df"
   ]
  },
  {
   "cell_type": "code",
   "execution_count": 16,
   "metadata": {},
   "outputs": [],
   "source": [
    "# aggregate:\n",
    "my_df_sync = my_pv_df\n",
    "my_df_sync = my_df_sync.join(my_rg_df, how='outer')\n",
    "my_df_sync = my_df_sync.join(my_da_df, how='outer')"
   ]
  },
  {
   "cell_type": "code",
   "execution_count": 17,
   "metadata": {},
   "outputs": [
    {
     "name": "stdout",
     "output_type": "stream",
     "text": [
      "<class 'pandas.core.frame.DataFrame'>\n",
      "DatetimeIndex: 35136 entries, 2016-01-01 00:00:00 to 2016-12-31 23:45:00\n",
      "Freq: 15T\n",
      "Data columns (total 4 columns):\n",
      " #   Column      Non-Null Count  Dtype  \n",
      "---  ------      --------------  -----  \n",
      " 0   PV_kW       35136 non-null  float64\n",
      " 1   PV_kW_pred  35136 non-null  float64\n",
      " 2   RG_MW       35136 non-null  float64\n",
      " 3   DA_EUR/MWh  35136 non-null  float64\n",
      "dtypes: float64(4)\n",
      "memory usage: 2.6 MB\n"
     ]
    }
   ],
   "source": [
    "my_df_sync.info()"
   ]
  },
  {
   "cell_type": "code",
   "execution_count": 18,
   "metadata": {},
   "outputs": [
    {
     "data": {
      "text/html": [
       "<div>\n",
       "<style scoped>\n",
       "    .dataframe tbody tr th:only-of-type {\n",
       "        vertical-align: middle;\n",
       "    }\n",
       "\n",
       "    .dataframe tbody tr th {\n",
       "        vertical-align: top;\n",
       "    }\n",
       "\n",
       "    .dataframe thead th {\n",
       "        text-align: right;\n",
       "    }\n",
       "</style>\n",
       "<table border=\"1\" class=\"dataframe\">\n",
       "  <thead>\n",
       "    <tr style=\"text-align: right;\">\n",
       "      <th></th>\n",
       "      <th>PV_kW</th>\n",
       "      <th>PV_kW_pred</th>\n",
       "      <th>RG_MW</th>\n",
       "      <th>DA_EUR/MWh</th>\n",
       "    </tr>\n",
       "  </thead>\n",
       "  <tbody>\n",
       "    <tr>\n",
       "      <th>2016-01-01 00:00:00</th>\n",
       "      <td>0.0</td>\n",
       "      <td>0.0</td>\n",
       "      <td>8878.35</td>\n",
       "      <td>23.8600</td>\n",
       "    </tr>\n",
       "    <tr>\n",
       "      <th>2016-01-01 00:15:00</th>\n",
       "      <td>0.0</td>\n",
       "      <td>0.0</td>\n",
       "      <td>8687.59</td>\n",
       "      <td>23.4925</td>\n",
       "    </tr>\n",
       "    <tr>\n",
       "      <th>2016-01-01 00:30:00</th>\n",
       "      <td>0.0</td>\n",
       "      <td>0.0</td>\n",
       "      <td>8553.69</td>\n",
       "      <td>23.1250</td>\n",
       "    </tr>\n",
       "  </tbody>\n",
       "</table>\n",
       "</div>"
      ],
      "text/plain": [
       "                     PV_kW  PV_kW_pred    RG_MW  DA_EUR/MWh\n",
       "2016-01-01 00:00:00    0.0         0.0  8878.35     23.8600\n",
       "2016-01-01 00:15:00    0.0         0.0  8687.59     23.4925\n",
       "2016-01-01 00:30:00    0.0         0.0  8553.69     23.1250"
      ]
     },
     "execution_count": 18,
     "metadata": {},
     "output_type": "execute_result"
    }
   ],
   "source": [
    "my_df_sync.head(3)\n",
    "# my_df_sync.tail(3)"
   ]
  },
  {
   "cell_type": "code",
   "execution_count": 19,
   "metadata": {},
   "outputs": [],
   "source": [
    "# view all data:\n",
    "# qgrid.show_grid(my_df_sync)"
   ]
  },
  {
   "cell_type": "markdown",
   "metadata": {},
   "source": [
    "### Checks"
   ]
  },
  {
   "cell_type": "code",
   "execution_count": 20,
   "metadata": {},
   "outputs": [
    {
     "name": "stdout",
     "output_type": "stream",
     "text": [
      "- check for rows with a NaN value: OK\n",
      "- check for duplicate timestamps : OK\n",
      "- check for set of timestamps    : OK\n"
     ]
    }
   ],
   "source": [
    "importlib.reload(my);\n",
    "\n",
    "my.checks(my_df_sync, my_year='2016')"
   ]
  },
  {
   "cell_type": "markdown",
   "metadata": {},
   "source": [
    "### Export"
   ]
  },
  {
   "cell_type": "code",
   "execution_count": 21,
   "metadata": {},
   "outputs": [],
   "source": [
    "# export to pickle:\n",
    "my_df_sync.to_pickle(\n",
    "    \"../data/aggregate/processed/my_df_sync.pickle\")\n",
    "if 0: # export to csv:\n",
    "    my_df_sync.to_csv(\n",
    "        \"../data/aggregate/processed/my_df_sync.csv\")"
   ]
  },
  {
   "cell_type": "code",
   "execution_count": 22,
   "metadata": {},
   "outputs": [],
   "source": [
    "# import again:\n",
    "my_df_sync = pd.read_pickle(\"../data/aggregate/processed/my_df_sync.pickle\")"
   ]
  },
  {
   "cell_type": "markdown",
   "metadata": {},
   "source": [
    "## Match EV Data\n",
    "\n",
    "Data encompasses \n",
    "\n",
    "- trips    between 2013-05-07 - 2015-11-29\n",
    "- charging between 2013-12-20 - 2015-11-29"
   ]
  },
  {
   "cell_type": "markdown",
   "metadata": {},
   "source": [
    "### Example"
   ]
  },
  {
   "cell_type": "markdown",
   "metadata": {},
   "source": [
    "#### Select"
   ]
  },
  {
   "cell_type": "code",
   "execution_count": 23,
   "metadata": {},
   "outputs": [],
   "source": [
    "# get all processed participant IDs:\n",
    "with open ('../data/ev/processed/participant_IDs.pickle', 'rb') as fp:\n",
    "    my_participants = pickle.load(fp)"
   ]
  },
  {
   "cell_type": "code",
   "execution_count": 24,
   "metadata": {},
   "outputs": [
    {
     "name": "stdout",
     "output_type": "stream",
     "text": [
      "selected participant = BL01\n"
     ]
    },
    {
     "data": {
      "text/html": [
       "<div>\n",
       "<style scoped>\n",
       "    .dataframe tbody tr th:only-of-type {\n",
       "        vertical-align: middle;\n",
       "    }\n",
       "\n",
       "    .dataframe tbody tr th {\n",
       "        vertical-align: top;\n",
       "    }\n",
       "\n",
       "    .dataframe thead th {\n",
       "        text-align: right;\n",
       "    }\n",
       "</style>\n",
       "<table border=\"1\" class=\"dataframe\">\n",
       "  <thead>\n",
       "    <tr style=\"text-align: right;\">\n",
       "      <th></th>\n",
       "      <th>driving_bool</th>\n",
       "      <th>power_kW</th>\n",
       "      <th>charging_bool</th>\n",
       "      <th>loadable_bool</th>\n",
       "    </tr>\n",
       "  </thead>\n",
       "  <tbody>\n",
       "    <tr>\n",
       "      <th>2014-07-04 17:00:00</th>\n",
       "      <td>False</td>\n",
       "      <td>0.0</td>\n",
       "      <td>False</td>\n",
       "      <td>True</td>\n",
       "    </tr>\n",
       "    <tr>\n",
       "      <th>2014-07-04 17:15:00</th>\n",
       "      <td>False</td>\n",
       "      <td>0.0</td>\n",
       "      <td>False</td>\n",
       "      <td>True</td>\n",
       "    </tr>\n",
       "    <tr>\n",
       "      <th>2014-07-04 17:30:00</th>\n",
       "      <td>False</td>\n",
       "      <td>0.0</td>\n",
       "      <td>False</td>\n",
       "      <td>True</td>\n",
       "    </tr>\n",
       "  </tbody>\n",
       "</table>\n",
       "</div>"
      ],
      "text/plain": [
       "                     driving_bool  power_kW  charging_bool  loadable_bool\n",
       "2014-07-04 17:00:00         False       0.0          False           True\n",
       "2014-07-04 17:15:00         False       0.0          False           True\n",
       "2014-07-04 17:30:00         False       0.0          False           True"
      ]
     },
     "execution_count": 24,
     "metadata": {},
     "output_type": "execute_result"
    }
   ],
   "source": [
    "my_participant = my_participants[0]\n",
    "# my_participant = \"BL04\"\n",
    "print(f\"selected participant = {my_participant}\")\n",
    "\n",
    "my_df_ev = pd.read_pickle(f\"../data/ev/processed/ev_df_{my_participant}.pickle\")\n",
    "my_df_ev.head(3)"
   ]
  },
  {
   "cell_type": "markdown",
   "metadata": {},
   "source": [
    "#### Checks"
   ]
  },
  {
   "cell_type": "code",
   "execution_count": 25,
   "metadata": {},
   "outputs": [
    {
     "name": "stdout",
     "output_type": "stream",
     "text": [
      "- check for rows with a NaN value: OK\n",
      "- check for duplicate timestamps : OK\n",
      "INFO: no check for set of timestamps performed.\n"
     ]
    }
   ],
   "source": [
    "importlib.reload(my);\n",
    "\n",
    "my.checks(my_df_ev, my_year='')"
   ]
  },
  {
   "cell_type": "markdown",
   "metadata": {},
   "source": [
    "#### Match"
   ]
  },
  {
   "cell_type": "markdown",
   "metadata": {},
   "source": [
    "strategy:\n",
    "\n",
    "1. check if data comprises more than 366 + x days\n",
    "2. match 366 days of 2016 such that weekdays correspond"
   ]
  },
  {
   "cell_type": "code",
   "execution_count": 26,
   "metadata": {},
   "outputs": [
    {
     "name": "stdout",
     "output_type": "stream",
     "text": [
      "EV data start: 2014-07-04 17:00:00.\n",
      "EV data end:   2015-11-28 19:30:00.\n"
     ]
    }
   ],
   "source": [
    "print(f\"EV data start: {my_df_ev.index[ 0]}.\")\n",
    "print(f\"EV data end:   {my_df_ev.index[-1]}.\")"
   ]
  },
  {
   "cell_type": "code",
   "execution_count": 27,
   "metadata": {},
   "outputs": [
    {
     "name": "stdout",
     "output_type": "stream",
     "text": [
      "yes\n"
     ]
    }
   ],
   "source": [
    "# check if data encompasses enough days for matching:\n",
    "my_time_delta = my_df_ev.index[-1] - my_df_ev.index[0]\n",
    "if my_time_delta/pd.Timedelta('1 day') >= 366 + 10:\n",
    "    print('yes')\n",
    "else: \n",
    "    print('no')"
   ]
  },
  {
   "cell_type": "code",
   "execution_count": 28,
   "metadata": {},
   "outputs": [
    {
     "name": "stdout",
     "output_type": "stream",
     "text": [
      "my_future_day.weekday() = 4\n",
      "my_past_day_wanted_weekday = 5\n",
      "my_past_day.weekday() = 5\n",
      "\n",
      "my_start_day  = 2015-01-02\n",
      "my_future_day = 2015-11-27\n",
      "my_past_day   = 2014-11-22\n",
      "my_end_day    = 2014-12-27\n"
     ]
    }
   ],
   "source": [
    "# check if Saturday 3 January 2015 00:00:00 is in data:\n",
    "if pd.Timestamp('2015-01-03') <= my_df_ev.index[-1]:\n",
    "    my_start_day_str = '2015-01-02' # Friday is entirely in data\n",
    "    my_start_day = pd.Timestamp('2015-01-02').date()\n",
    "# check if Saturday 4 January 2014 00:00:00 is in data:\n",
    "elif pd.Timestamp('2014-01-04') < my_df_ev.index[-1]: \n",
    "    my_start_day_str = '2014-01-03' # Friday is entirely in data\n",
    "    my_start_day = pd.Timestamp('2014-01-03').date()\n",
    "else:\n",
    "    my_start_day_str = None\n",
    "    print(\"No appropriate start day found.!\")\n",
    "    \n",
    "if not my_start_day_str is None:\n",
    "    my_future_day = np.unique(my_df_ev.index.date)[-2] #.strftime(format=\"%Y-%m-%d\")\n",
    "    my_future_day_str = my_future_day.strftime(format='%Y-%m-%d')\n",
    "    my_days_part_1 = (my_future_day - my_start_day)/pd.Timedelta('1 day') + 1\n",
    "    print(f\"{my_future_day.weekday() = }\")\n",
    "\n",
    "    my_past_day = my_df_ev.index[-2] - pd.Timedelta(365, unit='days')\n",
    "    my_past_day = my_past_day.date()\n",
    "\n",
    "    my_past_day_wanted_weekday = my_future_day.weekday() + 1\n",
    "    print(f\"{my_past_day_wanted_weekday = }\")\n",
    "\n",
    "    if my_past_day.weekday() != my_past_day_wanted_weekday:\n",
    "        my_days_diff = my_past_day.weekday() - my_past_day_wanted_weekday\n",
    "        if my_days_diff > 0:\n",
    "            my_past_day = my_past_day - pd.Timedelta(my_days_diff, unit='days')\n",
    "        else:\n",
    "            my_past_day = my_past_day - pd.Timedelta(my_days_diff + 7, unit='days')\n",
    "    if my_past_day.weekday() != my_past_day_wanted_weekday:\n",
    "        print(f\"Weekday correction did not work!\")\n",
    "    else:\n",
    "        my_past_day_str = my_past_day.strftime(format='%Y-%m-%d')\n",
    "        print(f\"{my_past_day.weekday() = }\")\n",
    "    my_days_part_2 = 366 - my_days_part_1\n",
    "    my_end_day = my_past_day + pd.Timedelta(my_days_part_2 - 1, unit='days')\n",
    "    my_end_day_str = my_end_day.strftime(format='%Y-%m-%d')\n",
    "    print(\"\")\n",
    "    print(f\"my_start_day  = {my_start_day_str}\")\n",
    "    print(f\"my_future_day = {my_future_day_str}\")\n",
    "    print(f\"my_past_day   = {my_past_day_str}\")\n",
    "    print(f\"my_end_day    = {my_end_day_str}\")"
   ]
  },
  {
   "cell_type": "code",
   "execution_count": 29,
   "metadata": {},
   "outputs": [],
   "source": [
    "# create my_df_ev_2016\n",
    "my_end = pd.Timestamp(\"2016-01-01 23:45:00\") + pd.Timedelta(my_days_part_1 - 1, unit='days')\n",
    "my_index = pd.date_range(start='2016-01-01', end=my_end, freq='15min')\n",
    "my_df_ev_2016 = pd.DataFrame(my_df_ev.loc[my_start_day_str:my_future_day_str, ].values,\n",
    "                             columns=my_df_ev.columns,\n",
    "                             index=my_index)\n",
    "# my_df_ev_2016"
   ]
  },
  {
   "cell_type": "code",
   "execution_count": 30,
   "metadata": {},
   "outputs": [],
   "source": [
    "my_start = pd.Timestamp(\"2016-01-01 00:00:00\") + pd.Timedelta(my_days_part_1, unit='days')\n",
    "my_index = pd.date_range(start=my_start, end=\"2016-12-31 23:45:00\", freq='15min')\n",
    "my_df_ev_2016_addon = pd.DataFrame(my_df_ev.loc[my_past_day_str:my_end_day_str, ].values,\n",
    "                                   columns=my_df_ev.columns,\n",
    "                                   index=my_index)\n",
    "# my_df_ev_2016_addon"
   ]
  },
  {
   "cell_type": "code",
   "execution_count": 31,
   "metadata": {},
   "outputs": [],
   "source": [
    "my_df_ev_2016 = my_df_ev_2016.append(my_df_ev_2016_addon)"
   ]
  },
  {
   "cell_type": "code",
   "execution_count": 32,
   "metadata": {},
   "outputs": [
    {
     "name": "stdout",
     "output_type": "stream",
     "text": [
      "- check for rows with a NaN value: OK\n",
      "- check for duplicate timestamps : OK\n",
      "- check for set of timestamps    : OK\n"
     ]
    }
   ],
   "source": [
    "importlib.reload(my);\n",
    "\n",
    "my.checks(my_df_ev_2016, my_year='2016')"
   ]
  },
  {
   "cell_type": "code",
   "execution_count": 33,
   "metadata": {},
   "outputs": [],
   "source": [
    "# view all data:\n",
    "# qgrid.show_grid(my_df_ev_2016)"
   ]
  },
  {
   "cell_type": "markdown",
   "metadata": {},
   "source": [
    "### Batch Matching"
   ]
  },
  {
   "cell_type": "code",
   "execution_count": 34,
   "metadata": {},
   "outputs": [],
   "source": [
    "# get all processed participant IDs:\n",
    "with open ('../data/ev/processed/participant_IDs.pickle', 'rb') as fp:\n",
    "    my_participants = pickle.load(fp)"
   ]
  },
  {
   "cell_type": "code",
   "execution_count": 35,
   "metadata": {},
   "outputs": [
    {
     "name": "stdout",
     "output_type": "stream",
     "text": [
      "working on participant BL01 ... \n",
      "  ... finished.\n",
      "working on participant BL02 ... \n",
      "  ... finished.\n",
      "working on participant BL03 ... \n",
      "  ... finished.\n",
      "working on participant BL04 ... \n",
      "  ... finished.\n",
      "working on participant BL05 ... \n",
      "  ... finished.\n",
      "working on participant BL06 ... \n",
      "  ... finished.\n",
      "working on participant BL08 ... \n",
      "  ... finished.\n",
      "working on participant CC01 ... \n",
      "  ... finished.\n",
      "working on participant CC02 ... \n",
      "  ... finished.\n",
      "working on participant CC04 ... \n",
      "  ... finished.\n",
      "writing selected participant IDs to a pickle file ... finished.\n",
      "Finished all.\n"
     ]
    }
   ],
   "source": [
    "importlib.reload(my);\n",
    "\n",
    "for my_participant in my_participants:\n",
    "    print(f\"working on participant {my_participant} ... \")\n",
    "    my_df_ev_2016 = my.match_ev(my_participant, verbose=False)\n",
    "    # export to pickle:\n",
    "    my_df_ev_2016.to_pickle(\n",
    "        f\"../data/aggregate/processed/ev_df_{my_participant}.pickle\")\n",
    "    if 0: # export to csv:\n",
    "        my_df_ev_2016.to_csv(\n",
    "            f\"../data/aggregate/processed/ev_df_{my_participant}.csv\")\n",
    "    print(\"  ... finished.\")\n",
    "    \n",
    "# write selected participant IDs to a pickle file:\n",
    "print(f\"writing selected participant IDs to a pickle file ... \", end=\"\")\n",
    "with open('../data/aggregate/processed/ev_participant_IDs.pickle', 'wb') as fp:\n",
    "    pickle.dump(my_participants, fp)\n",
    "print(\"finished.\")\n",
    "    \n",
    "print(\"Finished all.\")"
   ]
  },
  {
   "cell_type": "markdown",
   "metadata": {},
   "source": [
    "## Match HH Data\n",
    "\n",
    "Data encompasses July 2009 to Dec 2010.\n",
    "\n",
    "Jan 1 2010 was a Friday!"
   ]
  },
  {
   "cell_type": "markdown",
   "metadata": {},
   "source": [
    "### Example"
   ]
  },
  {
   "cell_type": "markdown",
   "metadata": {},
   "source": [
    "#### Select"
   ]
  },
  {
   "cell_type": "markdown",
   "metadata": {},
   "source": [
    "**SELECT raw file:**"
   ]
  },
  {
   "cell_type": "code",
   "execution_count": 36,
   "metadata": {},
   "outputs": [],
   "source": [
    "my_file_number = 1   # 1 - 6 corresponding to File1.txt - File6.txt"
   ]
  },
  {
   "cell_type": "code",
   "execution_count": 37,
   "metadata": {},
   "outputs": [],
   "source": [
    "# get all processed residential IDs of a raw data file:\n",
    "with open (f'../data/hh/processed/residential_IDs_file{my_file_number}.pickle', 'rb') as fp:\n",
    "    my_file_residential_IDs = pickle.load(fp)"
   ]
  },
  {
   "cell_type": "markdown",
   "metadata": {},
   "source": [
    "**SELECT residential:**"
   ]
  },
  {
   "cell_type": "code",
   "execution_count": 38,
   "metadata": {},
   "outputs": [
    {
     "name": "stdout",
     "output_type": "stream",
     "text": [
      "selected residential = 1002\n"
     ]
    }
   ],
   "source": [
    "my_residential_ID = my_file_residential_IDs[0]\n",
    "# my_residential_ID = \"1002\"\n",
    "print(f\"selected residential = {my_residential_ID}\")"
   ]
  },
  {
   "cell_type": "code",
   "execution_count": 39,
   "metadata": {},
   "outputs": [
    {
     "data": {
      "text/html": [
       "<div>\n",
       "<style scoped>\n",
       "    .dataframe tbody tr th:only-of-type {\n",
       "        vertical-align: middle;\n",
       "    }\n",
       "\n",
       "    .dataframe tbody tr th {\n",
       "        vertical-align: top;\n",
       "    }\n",
       "\n",
       "    .dataframe thead th {\n",
       "        text-align: right;\n",
       "    }\n",
       "</style>\n",
       "<table border=\"1\" class=\"dataframe\">\n",
       "  <thead>\n",
       "    <tr style=\"text-align: right;\">\n",
       "      <th></th>\n",
       "      <th>HH_kW</th>\n",
       "    </tr>\n",
       "    <tr>\n",
       "      <th></th>\n",
       "      <th></th>\n",
       "    </tr>\n",
       "  </thead>\n",
       "  <tbody>\n",
       "    <tr>\n",
       "      <th>2009-07-14 00:00:00</th>\n",
       "      <td>0.704976</td>\n",
       "    </tr>\n",
       "    <tr>\n",
       "      <th>2009-07-14 00:15:00</th>\n",
       "      <td>0.414806</td>\n",
       "    </tr>\n",
       "    <tr>\n",
       "      <th>2009-07-14 00:30:00</th>\n",
       "      <td>0.124637</td>\n",
       "    </tr>\n",
       "  </tbody>\n",
       "</table>\n",
       "</div>"
      ],
      "text/plain": [
       "                        HH_kW\n",
       "                             \n",
       "2009-07-14 00:00:00  0.704976\n",
       "2009-07-14 00:15:00  0.414806\n",
       "2009-07-14 00:30:00  0.124637"
      ]
     },
     "execution_count": 39,
     "metadata": {},
     "output_type": "execute_result"
    }
   ],
   "source": [
    "# load residential data:\n",
    "my_df_hh = pd.read_pickle(f\"../data/hh/processed/hh_df_{my_residential_ID}.pickle\")\n",
    "my_df_hh.head(3)"
   ]
  },
  {
   "cell_type": "code",
   "execution_count": 40,
   "metadata": {},
   "outputs": [
    {
     "data": {
      "text/html": [
       "<div>\n",
       "<style scoped>\n",
       "    .dataframe tbody tr th:only-of-type {\n",
       "        vertical-align: middle;\n",
       "    }\n",
       "\n",
       "    .dataframe tbody tr th {\n",
       "        vertical-align: top;\n",
       "    }\n",
       "\n",
       "    .dataframe thead th {\n",
       "        text-align: right;\n",
       "    }\n",
       "</style>\n",
       "<table border=\"1\" class=\"dataframe\">\n",
       "  <thead>\n",
       "    <tr style=\"text-align: right;\">\n",
       "      <th></th>\n",
       "      <th>HH_kW</th>\n",
       "    </tr>\n",
       "    <tr>\n",
       "      <th></th>\n",
       "      <th></th>\n",
       "    </tr>\n",
       "  </thead>\n",
       "  <tbody>\n",
       "    <tr>\n",
       "      <th>2010-12-31 22:30:00</th>\n",
       "      <td>0.286275</td>\n",
       "    </tr>\n",
       "    <tr>\n",
       "      <th>2010-12-31 22:45:00</th>\n",
       "      <td>0.394358</td>\n",
       "    </tr>\n",
       "    <tr>\n",
       "      <th>2010-12-31 23:00:00</th>\n",
       "      <td>0.502441</td>\n",
       "    </tr>\n",
       "  </tbody>\n",
       "</table>\n",
       "</div>"
      ],
      "text/plain": [
       "                        HH_kW\n",
       "                             \n",
       "2010-12-31 22:30:00  0.286275\n",
       "2010-12-31 22:45:00  0.394358\n",
       "2010-12-31 23:00:00  0.502441"
      ]
     },
     "execution_count": 40,
     "metadata": {},
     "output_type": "execute_result"
    }
   ],
   "source": [
    "my_df_hh.tail(3)"
   ]
  },
  {
   "cell_type": "markdown",
   "metadata": {},
   "source": [
    "#### Checks"
   ]
  },
  {
   "cell_type": "code",
   "execution_count": 41,
   "metadata": {},
   "outputs": [
    {
     "name": "stdout",
     "output_type": "stream",
     "text": [
      "- check for rows with a NaN value: OK\n",
      "- check for duplicate timestamps : OK\n",
      "INFO: no check for set of timestamps performed.\n"
     ]
    }
   ],
   "source": [
    "importlib.reload(my);\n",
    "\n",
    "my.checks(my_df_hh, my_year='')"
   ]
  },
  {
   "cell_type": "markdown",
   "metadata": {},
   "source": [
    "#### Match"
   ]
  },
  {
   "cell_type": "markdown",
   "metadata": {},
   "source": [
    "strategy:\n",
    "\n",
    "1. check if data comprises more than 366 + x days\n",
    "2. match 366 days of 2016 such that weekdays correspond"
   ]
  },
  {
   "cell_type": "code",
   "execution_count": 42,
   "metadata": {},
   "outputs": [],
   "source": [
    "my_start_day_str = '2010-01-01' # Friday\n",
    "my_start_day = pd.Timestamp('2010-01-01').date()"
   ]
  },
  {
   "cell_type": "code",
   "execution_count": 43,
   "metadata": {},
   "outputs": [
    {
     "name": "stdout",
     "output_type": "stream",
     "text": [
      "my_future_day.weekday() = 3\n",
      "my_past_day_wanted_weekday = 4\n",
      "my_past_day.weekday() = 4\n",
      "\n",
      "my_start_day  = 2010-01-01\n",
      "my_future_day = 2010-12-30\n",
      "my_past_day   = 2009-12-25\n",
      "my_end_day    = 2009-12-26\n"
     ]
    }
   ],
   "source": [
    "my_future_day = np.unique(my_df_hh.index.date)[-2] #.strftime(format=\"%Y-%m-%d\")\n",
    "my_future_day_str = my_future_day.strftime(format='%Y-%m-%d')\n",
    "my_days_part_1 = (my_future_day - my_start_day)/pd.Timedelta('1 day') + 1\n",
    "print(f\"{my_future_day.weekday() = }\")\n",
    "\n",
    "my_past_day = my_df_hh.index[-2] - pd.Timedelta(365, unit='days')\n",
    "my_past_day = my_past_day.date()\n",
    "\n",
    "my_past_day_wanted_weekday = my_future_day.weekday() + 1\n",
    "print(f\"{my_past_day_wanted_weekday = }\")\n",
    "\n",
    "if my_past_day.weekday() != my_past_day_wanted_weekday:\n",
    "    my_days_diff = my_past_day.weekday() - my_past_day_wanted_weekday\n",
    "    if my_days_diff > 0:\n",
    "        my_past_day = my_past_day - pd.Timedelta(my_days_diff, unit='days')\n",
    "    else:\n",
    "        my_past_day = my_past_day - pd.Timedelta(my_days_diff + 7, unit='days')\n",
    "if my_past_day.weekday() != my_past_day_wanted_weekday:\n",
    "    print(f\"Weekday correction did not work!\")\n",
    "else:\n",
    "    my_past_day_str = my_past_day.strftime(format='%Y-%m-%d')\n",
    "    print(f\"{my_past_day.weekday() = }\")\n",
    "my_days_part_2 = 366 - my_days_part_1\n",
    "my_end_day = my_past_day + pd.Timedelta(my_days_part_2 - 1, unit='days')\n",
    "my_end_day_str = my_end_day.strftime(format='%Y-%m-%d')\n",
    "print(\"\")\n",
    "print(f\"my_start_day  = {my_start_day_str}\")\n",
    "print(f\"my_future_day = {my_future_day_str}\")\n",
    "print(f\"my_past_day   = {my_past_day_str}\")\n",
    "print(f\"my_end_day    = {my_end_day_str}\")"
   ]
  },
  {
   "cell_type": "code",
   "execution_count": 44,
   "metadata": {},
   "outputs": [],
   "source": [
    "# create my_hh_2016:\n",
    "my_end = pd.Timestamp(\"2016-01-01 23:45:00\") + pd.Timedelta(my_days_part_1 - 1, unit='days')\n",
    "my_index = pd.date_range(start='2016-01-01', end=my_end, freq='15min')\n",
    "my_df_hh_2016 = pd.DataFrame(my_df_hh.loc[my_start_day_str:my_future_day_str, ].values,\n",
    "                             columns=my_df_hh.columns,\n",
    "                             index=my_index)\n",
    "# my_df_hh_2016"
   ]
  },
  {
   "cell_type": "code",
   "execution_count": 45,
   "metadata": {},
   "outputs": [],
   "source": [
    "my_start = pd.Timestamp(\"2016-01-01 00:00:00\") + pd.Timedelta(my_days_part_1, unit='days')\n",
    "my_index = pd.date_range(start=my_start, end=\"2016-12-31 23:45:00\", freq='15min')\n",
    "my_df_hh_2016_addon = pd.DataFrame(my_df_hh.loc[my_past_day_str:my_end_day_str, ].values,\n",
    "                                   columns=my_df_hh.columns,\n",
    "                                   index=my_index)\n",
    "# my_df_hh_2016_addon"
   ]
  },
  {
   "cell_type": "code",
   "execution_count": 46,
   "metadata": {},
   "outputs": [],
   "source": [
    "my_df_hh_2016 = my_df_hh_2016.append(my_df_hh_2016_addon)"
   ]
  },
  {
   "cell_type": "code",
   "execution_count": 47,
   "metadata": {},
   "outputs": [
    {
     "name": "stdout",
     "output_type": "stream",
     "text": [
      "- check for rows with a NaN value: OK\n",
      "- check for duplicate timestamps : OK\n",
      "- check for set of timestamps    : OK\n"
     ]
    }
   ],
   "source": [
    "importlib.reload(my);\n",
    "\n",
    "my.checks(my_df_hh_2016, my_year='2016')"
   ]
  },
  {
   "cell_type": "code",
   "execution_count": 48,
   "metadata": {},
   "outputs": [],
   "source": [
    "# view all data:\n",
    "# qgrid.show_grid(my_df_hh_2016)"
   ]
  },
  {
   "cell_type": "markdown",
   "metadata": {},
   "source": [
    "### Batch Matching"
   ]
  },
  {
   "cell_type": "code",
   "execution_count": 49,
   "metadata": {},
   "outputs": [],
   "source": [
    "# get all processed residential IDs of a raw data file:\n",
    "\n",
    "my_file_number = 1   # 1 - 6\n",
    "\n",
    "with open (f'../data/hh/processed/residential_IDs_file{my_file_number}.pickle', 'rb') as fp:\n",
    "    my_file_residential_IDs = pickle.load(fp)"
   ]
  },
  {
   "cell_type": "code",
   "execution_count": 50,
   "metadata": {},
   "outputs": [
    {
     "name": "stdout",
     "output_type": "stream",
     "text": [
      "working on residential 1002 ... \n",
      "  ... finished.\n",
      "working on residential 1003 ... \n",
      "  ... finished.\n",
      "working on residential 1004 ... \n",
      "  ... finished.\n",
      "working on residential 1005 ... \n",
      "  ... finished.\n",
      "working on residential 1006 ... \n",
      "  ... finished.\n",
      "working on residential 1008 ... \n",
      "  ... finished.\n",
      "working on residential 1009 ... \n",
      "  ... finished.\n",
      "working on residential 1013 ... \n",
      "  ... finished.\n",
      "working on residential 1014 ... \n",
      "  ... finished.\n",
      "working on residential 1015 ... \n",
      "  ... finished.\n",
      "working on residential 1016 ... \n",
      "  ... finished.\n",
      "working on residential 1018 ... \n",
      "  ... finished.\n",
      "working on residential 1020 ... \n",
      "  ... finished.\n",
      "working on residential 1022 ... \n",
      "  ... finished.\n",
      "working on residential 1024 ... \n",
      "  ... finished.\n",
      "working on residential 1025 ... \n",
      "  ... finished.\n",
      "working on residential 1027 ... \n",
      "  ... finished.\n",
      "working on residential 1030 ... \n",
      "  ... finished.\n",
      "working on residential 1033 ... \n",
      "  ... finished.\n",
      "working on residential 1034 ... \n",
      "  ... finished.\n",
      "writing selected residential IDs to a pickle file ... finished.\n",
      "Finished all.\n"
     ]
    }
   ],
   "source": [
    "importlib.reload(my);\n",
    "\n",
    "for my_residential_ID in my_file_residential_IDs:\n",
    "    print(f\"working on residential {my_residential_ID} ... \")\n",
    "    my_df_hh_2016 = my.match_hh(my_residential_ID, verbose=False)\n",
    "    # export to pickle:\n",
    "    my_df_hh_2016.to_pickle(\n",
    "        f\"../data/aggregate/processed/hh_df_{my_residential_ID}.pickle\")\n",
    "    if 0: # export to csv:\n",
    "        my_df_hh_2016.to_csv(\n",
    "            f\"../data/aggregate/processed/hh_df_{my_residential_ID}.csv\")\n",
    "    print(\"  ... finished.\")\n",
    "\n",
    "# write selected residential IDs to a pickle file:\n",
    "print(f\"writing selected residential IDs to a pickle file ... \", end=\"\")\n",
    "with open(f\"../data/aggregate/processed/hh_residential_IDs_file{my_file_number}.pickle\", 'wb') as fp:\n",
    "    pickle.dump(my_file_residential_IDs, fp)\n",
    "print(\"finished.\")\n",
    "    \n",
    "print(\"Finished all.\")"
   ]
  },
  {
   "cell_type": "markdown",
   "metadata": {},
   "source": [
    "# View Data"
   ]
  },
  {
   "cell_type": "code",
   "execution_count": 51,
   "metadata": {},
   "outputs": [
    {
     "name": "stdout",
     "output_type": "stream",
     "text": [
      "The selected day was a Monday.\n"
     ]
    }
   ],
   "source": [
    "my_day = \"2016-10-10\"\n",
    "\n",
    "my_day_ts = pd.Timestamp(my_day)\n",
    "# Monday == 0 ... Sunday == 6\n",
    "my_weekdays = {0: 'Monday',\n",
    "               1: 'Tuesday',\n",
    "               2: 'Wednesday',\n",
    "               3: 'Thursday',\n",
    "               4: 'Friday',\n",
    "               5: 'Saturday',\n",
    "               6: 'Sunday'}\n",
    "print(f\"The selected day was a {my_weekdays[my_day_ts.weekday()]}.\") "
   ]
  },
  {
   "cell_type": "markdown",
   "metadata": {},
   "source": [
    "## Synced Data"
   ]
  },
  {
   "cell_type": "code",
   "execution_count": 52,
   "metadata": {},
   "outputs": [],
   "source": [
    "my_df_sync = pd.read_pickle(\"../data/aggregate/processed/my_df_sync.pickle\")"
   ]
  },
  {
   "cell_type": "code",
   "execution_count": 53,
   "metadata": {},
   "outputs": [
    {
     "data": {
      "image/png": "[encoded data removed]",
      "text/plain": [
       "<Figure size 720x648 with 3 Axes>"
      ]
     },
     "metadata": {
      "needs_background": "light"
     },
     "output_type": "display_data"
    }
   ],
   "source": [
    "fig, axes = plt.subplots(nrows=3, ncols=1);\n",
    "\n",
    "my_df_sync.loc[my_day,['PV_kW','PV_kW_pred']].plot(ax=axes[0], title=my_day,\n",
    "    figsize=(10,9), grid=True, ylabel='kW', drawstyle=\"steps-post\");\n",
    "my_df_sync.loc[my_day,['RG_MW']].plot(ax=axes[1], \n",
    "    grid=True, ylabel='MW', color='green',drawstyle=\"steps-post\");\n",
    "my_df_sync.loc[my_day,['DA_EUR/MWh']].plot(ax=axes[2], \n",
    "    grid=True, ylabel='EUR/MWh', color='black', drawstyle=\"steps-post\");\n",
    "plt.tight_layout();\n",
    "# plt.savefig(f\"../figures/PV_RG_DA_{my_day}.pdf\")\n",
    "plt.savefig(f\"../figures/PV_RG_DA_{my_day}.png\")"
   ]
  },
  {
   "cell_type": "markdown",
   "metadata": {},
   "source": [
    "## Match Data"
   ]
  },
  {
   "cell_type": "markdown",
   "metadata": {},
   "source": [
    "### EV"
   ]
  },
  {
   "cell_type": "code",
   "execution_count": 54,
   "metadata": {},
   "outputs": [],
   "source": [
    "# get all processed participant IDs:\n",
    "with open ('../data/aggregate/processed/ev_participant_IDs.pickle', 'rb') as fp:\n",
    "    my_participants = pickle.load(fp)"
   ]
  },
  {
   "cell_type": "code",
   "execution_count": 55,
   "metadata": {},
   "outputs": [
    {
     "name": "stdout",
     "output_type": "stream",
     "text": [
      "selected participant = BL02\n"
     ]
    }
   ],
   "source": [
    "my_participant = my_participants[1]\n",
    "print(f\"selected participant = {my_participant}\")\n",
    "\n",
    "my_df_ev_2016 = pd.read_pickle(f\"../data/aggregate/processed/ev_df_{my_participant}.pickle\")"
   ]
  },
  {
   "cell_type": "code",
   "execution_count": 56,
   "metadata": {},
   "outputs": [
    {
     "data": {
      "image/png": "[encoded data removed]",
      "text/plain": [
       "<Figure size 720x648 with 4 Axes>"
      ]
     },
     "metadata": {
      "needs_background": "light"
     },
     "output_type": "display_data"
    }
   ],
   "source": [
    "fig, axes = plt.subplots(nrows=4, ncols=1);\n",
    "my_df_ev_2016.loc[my_day,['driving_bool']].astype(int).plot(ax=axes[0], grid=True, \n",
    "     figsize=(10,9), title=my_day, drawstyle=\"steps-post\", color='red');\n",
    "my_df_ev_2016.loc[my_day,['power_kW']].plot(ax=axes[1], grid=True, ylabel='kW',\n",
    "     drawstyle=\"steps-post\", color='violet');\n",
    "my_df_ev_2016.loc[my_day,['charging_bool']].astype(int).plot(ax=axes[2], \n",
    "    grid=True, drawstyle=\"steps-post\", color=\"orange\");\n",
    "my_df_ev_2016.loc[my_day,['loadable_bool']].astype(int).plot(ax=axes[3], \n",
    "    grid=True, drawstyle=\"steps-post\", color='green');\n",
    "plt.tight_layout()\n",
    "# plt.savefig(f\"../figures/EV_{my_day}.pdf\")\n",
    "plt.savefig(f\"../figures/EV_{my_day}.png\")"
   ]
  },
  {
   "cell_type": "code",
   "execution_count": 57,
   "metadata": {},
   "outputs": [],
   "source": [
    "# qgrid.show_grid(my_df_ev_2016.loc[my_day,])"
   ]
  },
  {
   "cell_type": "markdown",
   "metadata": {},
   "source": [
    "### HH"
   ]
  },
  {
   "cell_type": "markdown",
   "metadata": {},
   "source": [
    "**SELECT raw file:**"
   ]
  },
  {
   "cell_type": "code",
   "execution_count": 58,
   "metadata": {},
   "outputs": [],
   "source": [
    "my_file_number = 1   # 1 - 6 corresponding to File1.txt - File6.txt"
   ]
  },
  {
   "cell_type": "code",
   "execution_count": 59,
   "metadata": {},
   "outputs": [],
   "source": [
    "# get all processed residential IDs of the selected raw data file:\n",
    "with open (f'../data/hh/processed/residential_IDs_file{my_file_number}.pickle', 'rb') as fp:\n",
    "    my_file_residential_IDs = pickle.load(fp)"
   ]
  },
  {
   "cell_type": "markdown",
   "metadata": {},
   "source": [
    "**SELECT residential:**"
   ]
  },
  {
   "cell_type": "code",
   "execution_count": 60,
   "metadata": {},
   "outputs": [
    {
     "name": "stdout",
     "output_type": "stream",
     "text": [
      "selected residential = 1002\n"
     ]
    }
   ],
   "source": [
    "my_residential_ID = my_file_residential_IDs[0]\n",
    "print(f\"selected residential = {my_residential_ID}\")\n",
    "\n",
    "my_df_hh_2016 = my.match_hh(my_residential_ID, verbose=False)"
   ]
  },
  {
   "cell_type": "code",
   "execution_count": 61,
   "metadata": {},
   "outputs": [
    {
     "data": {
      "image/png": "[encoded data removed]",
      "text/plain": [
       "<Figure size 720x288 with 1 Axes>"
      ]
     },
     "metadata": {
      "needs_background": "light"
     },
     "output_type": "display_data"
    }
   ],
   "source": [
    "my_df_hh_2016.loc[my_day].plot(title=my_day, figsize=(10,4), \n",
    "    grid=True, ylabel='kWh', drawstyle=\"steps-post\");\n",
    "plt.tight_layout()\n",
    "# plt.savefig(f\"../figures/HH_{my_day}.pdf\")\n",
    "plt.savefig(f\"../figures/HH_{my_day}.png\")"
   ]
  },
  {
   "cell_type": "code",
   "execution_count": 62,
   "metadata": {},
   "outputs": [],
   "source": [
    "# qgrid.show_grid(my_df_hh_2016.loc[my_day,])"
   ]
  },
  {
   "cell_type": "code",
   "execution_count": null,
   "metadata": {},
   "outputs": [],
   "source": []
  }
 ],
 "metadata": {
  "kernelspec": {
   "display_name": "Python 3",
   "language": "python",
   "name": "python3"
  },
  "language_info": {
   "codemirror_mode": {
    "name": "ipython",
    "version": 3
   },
   "file_extension": ".py",
   "mimetype": "text/x-python",
   "name": "python",
   "nbconvert_exporter": "python",
   "pygments_lexer": "ipython3",
   "version": "3.8.6"
  }
 },
 "nbformat": 4,
 "nbformat_minor": 4
}
